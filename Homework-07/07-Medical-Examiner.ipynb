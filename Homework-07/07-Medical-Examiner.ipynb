{
 "cells": [
  {
   "cell_type": "markdown",
   "metadata": {},
   "source": [
    "# Medical Examiner Case Archives\n",
    "\n",
    "Cook County (Chicago) medical examiner records, taken from [here](https://datacatalog.cookcountyil.gov/Public-Safety/Medical-Examiner-Case-Archive/cjeq-bs86) after discovery via [Data is Plural](https://tinyletter.com/data-is-plural)."
   ]
  },
  {
   "cell_type": "markdown",
   "metadata": {},
   "source": [
    "## Do your importing/setup"
   ]
  },
  {
   "cell_type": "code",
   "execution_count": 1,
   "metadata": {},
   "outputs": [],
   "source": [
    "import pandas as pd"
   ]
  },
  {
   "cell_type": "code",
   "execution_count": 2,
   "metadata": {},
   "outputs": [],
   "source": [
    "%matplotlib inline"
   ]
  },
  {
   "cell_type": "markdown",
   "metadata": {},
   "source": [
    "## Read in the data, check its row count and column types"
   ]
  },
  {
   "cell_type": "code",
   "execution_count": 3,
   "metadata": {},
   "outputs": [],
   "source": [
    "df = pd.read_csv('case-archive-encoded.csv', na_values=['Data missing'])"
   ]
  },
  {
   "cell_type": "code",
   "execution_count": 4,
   "metadata": {},
   "outputs": [
    {
     "data": {
      "text/plain": [
       "(22634, 20)"
      ]
     },
     "execution_count": 4,
     "metadata": {},
     "output_type": "execute_result"
    }
   ],
   "source": [
    "df.shape"
   ]
  },
  {
   "cell_type": "code",
   "execution_count": 5,
   "metadata": {},
   "outputs": [
    {
     "data": {
      "text/plain": [
       "Case Number              object\n",
       "Date of Incident         object\n",
       "Date of Death            object\n",
       "Age                     float64\n",
       "Gender                    int64\n",
       "Race                      int64\n",
       "Latino                     bool\n",
       "Manner of Death          object\n",
       "Primary Cause            object\n",
       "Primary Cause Line B     object\n",
       "Primary Cause Line C     object\n",
       "Secondary Cause          object\n",
       "Gun Related              object\n",
       "Opioid Related           object\n",
       "Incident Address         object\n",
       "Incident City            object\n",
       "longitude               float64\n",
       "latitude                float64\n",
       "OBJECTID                  int64\n",
       "location                 object\n",
       "dtype: object"
      ]
     },
     "execution_count": 5,
     "metadata": {},
     "output_type": "execute_result"
    }
   ],
   "source": [
    "df.dtypes"
   ]
  },
  {
   "cell_type": "code",
   "execution_count": 6,
   "metadata": {},
   "outputs": [
    {
     "data": {
      "text/html": [
       "<div>\n",
       "<style scoped>\n",
       "    .dataframe tbody tr th:only-of-type {\n",
       "        vertical-align: middle;\n",
       "    }\n",
       "\n",
       "    .dataframe tbody tr th {\n",
       "        vertical-align: top;\n",
       "    }\n",
       "\n",
       "    .dataframe thead th {\n",
       "        text-align: right;\n",
       "    }\n",
       "</style>\n",
       "<table border=\"1\" class=\"dataframe\">\n",
       "  <thead>\n",
       "    <tr style=\"text-align: right;\">\n",
       "      <th></th>\n",
       "      <th>Case Number</th>\n",
       "      <th>Date of Incident</th>\n",
       "      <th>Date of Death</th>\n",
       "      <th>Age</th>\n",
       "      <th>Gender</th>\n",
       "      <th>Race</th>\n",
       "      <th>Latino</th>\n",
       "      <th>Manner of Death</th>\n",
       "      <th>Primary Cause</th>\n",
       "      <th>Primary Cause Line B</th>\n",
       "      <th>Primary Cause Line C</th>\n",
       "      <th>Secondary Cause</th>\n",
       "      <th>Gun Related</th>\n",
       "      <th>Opioid Related</th>\n",
       "      <th>Incident Address</th>\n",
       "      <th>Incident City</th>\n",
       "      <th>longitude</th>\n",
       "      <th>latitude</th>\n",
       "      <th>OBJECTID</th>\n",
       "      <th>location</th>\n",
       "    </tr>\n",
       "  </thead>\n",
       "  <tbody>\n",
       "    <tr>\n",
       "      <th>0</th>\n",
       "      <td>ME2017-04255</td>\n",
       "      <td>09/10/2017 08:28:00 PM</td>\n",
       "      <td>09/10/2017 08:51:00 PM</td>\n",
       "      <td>51.0</td>\n",
       "      <td>1</td>\n",
       "      <td>5</td>\n",
       "      <td>False</td>\n",
       "      <td>NaN</td>\n",
       "      <td>NaN</td>\n",
       "      <td>NaN</td>\n",
       "      <td>NaN</td>\n",
       "      <td>NaN</td>\n",
       "      <td>NaN</td>\n",
       "      <td>NaN</td>\n",
       "      <td>NaN</td>\n",
       "      <td>NaN</td>\n",
       "      <td>NaN</td>\n",
       "      <td>NaN</td>\n",
       "      <td>20468</td>\n",
       "      <td>NaN</td>\n",
       "    </tr>\n",
       "    <tr>\n",
       "      <th>1</th>\n",
       "      <td>ME2018-02149</td>\n",
       "      <td>05/05/2018 06:30:00 AM</td>\n",
       "      <td>05/05/2018 06:41:00 AM</td>\n",
       "      <td>65.0</td>\n",
       "      <td>1</td>\n",
       "      <td>5</td>\n",
       "      <td>False</td>\n",
       "      <td>NaN</td>\n",
       "      <td>NaN</td>\n",
       "      <td>NaN</td>\n",
       "      <td>NaN</td>\n",
       "      <td>NaN</td>\n",
       "      <td>NaN</td>\n",
       "      <td>NaN</td>\n",
       "      <td>2110 W. 21ST PL #1</td>\n",
       "      <td>CHICAGO</td>\n",
       "      <td>-87.678845</td>\n",
       "      <td>41.853279</td>\n",
       "      <td>77827</td>\n",
       "      <td>(41.8532787, -87.6788449)</td>\n",
       "    </tr>\n",
       "    <tr>\n",
       "      <th>2</th>\n",
       "      <td>ME2018-02154</td>\n",
       "      <td>04/26/2018 08:29:00 AM</td>\n",
       "      <td>05/05/2018 04:45:00 AM</td>\n",
       "      <td>95.0</td>\n",
       "      <td>1</td>\n",
       "      <td>5</td>\n",
       "      <td>False</td>\n",
       "      <td>NaN</td>\n",
       "      <td>NaN</td>\n",
       "      <td>NaN</td>\n",
       "      <td>NaN</td>\n",
       "      <td>NaN</td>\n",
       "      <td>NaN</td>\n",
       "      <td>NaN</td>\n",
       "      <td>20704 S Woodlawn Ct</td>\n",
       "      <td>FRANKFORT</td>\n",
       "      <td>NaN</td>\n",
       "      <td>NaN</td>\n",
       "      <td>77839</td>\n",
       "      <td>NaN</td>\n",
       "    </tr>\n",
       "    <tr>\n",
       "      <th>3</th>\n",
       "      <td>ME2018-02156</td>\n",
       "      <td>05/05/2018 12:00:00 PM</td>\n",
       "      <td>05/05/2018 12:25:00 PM</td>\n",
       "      <td>64.0</td>\n",
       "      <td>0</td>\n",
       "      <td>5</td>\n",
       "      <td>False</td>\n",
       "      <td>NaN</td>\n",
       "      <td>NaN</td>\n",
       "      <td>NaN</td>\n",
       "      <td>NaN</td>\n",
       "      <td>NaN</td>\n",
       "      <td>NaN</td>\n",
       "      <td>NaN</td>\n",
       "      <td>4008 W. BERTEAU AVENUE,  APT #1</td>\n",
       "      <td>CHICAGO</td>\n",
       "      <td>-87.728177</td>\n",
       "      <td>41.957468</td>\n",
       "      <td>77823</td>\n",
       "      <td>(41.9574677, -87.7281769)</td>\n",
       "    </tr>\n",
       "    <tr>\n",
       "      <th>4</th>\n",
       "      <td>ME2018-02158</td>\n",
       "      <td>05/05/2018 09:30:00 AM</td>\n",
       "      <td>05/05/2018 09:50:00 AM</td>\n",
       "      <td>61.0</td>\n",
       "      <td>1</td>\n",
       "      <td>2</td>\n",
       "      <td>False</td>\n",
       "      <td>NaN</td>\n",
       "      <td>NaN</td>\n",
       "      <td>NaN</td>\n",
       "      <td>NaN</td>\n",
       "      <td>NaN</td>\n",
       "      <td>NaN</td>\n",
       "      <td>NaN</td>\n",
       "      <td>3947 W. LEXINGTON STREET</td>\n",
       "      <td>CHICAGO</td>\n",
       "      <td>-87.724739</td>\n",
       "      <td>41.871451</td>\n",
       "      <td>77822</td>\n",
       "      <td>(41.8714515, -87.7247386)</td>\n",
       "    </tr>\n",
       "  </tbody>\n",
       "</table>\n",
       "</div>"
      ],
      "text/plain": [
       "    Case Number        Date of Incident           Date of Death   Age  Gender  \\\n",
       "0  ME2017-04255  09/10/2017 08:28:00 PM  09/10/2017 08:51:00 PM  51.0       1   \n",
       "1  ME2018-02149  05/05/2018 06:30:00 AM  05/05/2018 06:41:00 AM  65.0       1   \n",
       "2  ME2018-02154  04/26/2018 08:29:00 AM  05/05/2018 04:45:00 AM  95.0       1   \n",
       "3  ME2018-02156  05/05/2018 12:00:00 PM  05/05/2018 12:25:00 PM  64.0       0   \n",
       "4  ME2018-02158  05/05/2018 09:30:00 AM  05/05/2018 09:50:00 AM  61.0       1   \n",
       "\n",
       "   Race  Latino Manner of Death Primary Cause Primary Cause Line B  \\\n",
       "0     5   False             NaN           NaN                  NaN   \n",
       "1     5   False             NaN           NaN                  NaN   \n",
       "2     5   False             NaN           NaN                  NaN   \n",
       "3     5   False             NaN           NaN                  NaN   \n",
       "4     2   False             NaN           NaN                  NaN   \n",
       "\n",
       "  Primary Cause Line C Secondary Cause Gun Related Opioid Related  \\\n",
       "0                  NaN             NaN         NaN            NaN   \n",
       "1                  NaN             NaN         NaN            NaN   \n",
       "2                  NaN             NaN         NaN            NaN   \n",
       "3                  NaN             NaN         NaN            NaN   \n",
       "4                  NaN             NaN         NaN            NaN   \n",
       "\n",
       "                  Incident Address Incident City  longitude   latitude  \\\n",
       "0                              NaN           NaN        NaN        NaN   \n",
       "1               2110 W. 21ST PL #1       CHICAGO -87.678845  41.853279   \n",
       "2              20704 S Woodlawn Ct     FRANKFORT        NaN        NaN   \n",
       "3  4008 W. BERTEAU AVENUE,  APT #1       CHICAGO -87.728177  41.957468   \n",
       "4         3947 W. LEXINGTON STREET       CHICAGO -87.724739  41.871451   \n",
       "\n",
       "   OBJECTID                   location  \n",
       "0     20468                        NaN  \n",
       "1     77827  (41.8532787, -87.6788449)  \n",
       "2     77839                        NaN  \n",
       "3     77823  (41.9574677, -87.7281769)  \n",
       "4     77822  (41.8714515, -87.7247386)  "
      ]
     },
     "execution_count": 6,
     "metadata": {},
     "output_type": "execute_result"
    }
   ],
   "source": [
    "df.head()"
   ]
  },
  {
   "cell_type": "code",
   "execution_count": 7,
   "metadata": {},
   "outputs": [
    {
     "data": {
      "text/plain": [
       "0        1\n",
       "1        1\n",
       "2        1\n",
       "3        0\n",
       "4        1\n",
       "5        1\n",
       "6        1\n",
       "7        1\n",
       "8        1\n",
       "9        1\n",
       "10       1\n",
       "11       1\n",
       "12       1\n",
       "13       1\n",
       "14       1\n",
       "15       1\n",
       "16       1\n",
       "17       1\n",
       "18       1\n",
       "19       1\n",
       "20       1\n",
       "21       0\n",
       "22       1\n",
       "23       0\n",
       "24       1\n",
       "25       1\n",
       "26       1\n",
       "27       1\n",
       "28       1\n",
       "29       1\n",
       "        ..\n",
       "22604    1\n",
       "22605   -1\n",
       "22606    0\n",
       "22607    1\n",
       "22608    1\n",
       "22609    1\n",
       "22610    1\n",
       "22611    0\n",
       "22612    1\n",
       "22613    1\n",
       "22614    0\n",
       "22615    1\n",
       "22616    1\n",
       "22617    1\n",
       "22618    1\n",
       "22619    1\n",
       "22620    1\n",
       "22621    0\n",
       "22622    0\n",
       "22623    1\n",
       "22624    1\n",
       "22625    1\n",
       "22626    0\n",
       "22627    0\n",
       "22628    1\n",
       "22629    1\n",
       "22630    1\n",
       "22631    1\n",
       "22632    1\n",
       "22633    1\n",
       "Name: Gender, Length: 22634, dtype: int64"
      ]
     },
     "execution_count": 7,
     "metadata": {},
     "output_type": "execute_result"
    }
   ],
   "source": [
    "df.Gender"
   ]
  },
  {
   "cell_type": "markdown",
   "metadata": {},
   "source": [
    "## Cleaning up your data\n",
    "\n",
    "First you'll want to convert the `Race` and `Gender` columns from codes into actual text to make analysis easier.\n",
    "\n",
    "### Gender codes\n",
    "\n",
    "* `-1` - `Data missing`\n",
    "* `0` - `Female`\n",
    "* `1` - `Male`\n",
    "* `2` - `Unknown`\n",
    "\n",
    "### Race codes\n",
    "\n",
    "* `-1` - `Data missing`\n",
    "* `0` - `American Indian`\n",
    "* `1` - `Asian`\n",
    "* `2` - `Black`\n",
    "* `3` - `Other`\n",
    "* `4` - `Unknown`\n",
    "* `5` - `White`"
   ]
  },
  {
   "cell_type": "code",
   "execution_count": 8,
   "metadata": {},
   "outputs": [],
   "source": [
    "df['Gender_num']=df['Gender'].replace({-1: 'Data missing',\n",
    "           0: 'Female',\n",
    "           1: 'Male',\n",
    "           2: 'Unknown'\n",
    "           })"
   ]
  },
  {
   "cell_type": "code",
   "execution_count": 9,
   "metadata": {},
   "outputs": [],
   "source": [
    "df['Race_num']=df['Race'].replace({\n",
    "    -1: 'Data missing',\n",
    "    0: 'American Indian',\n",
    "    1: 'Asian',\n",
    "    2: 'Black',\n",
    "    3: 'Other',\n",
    "    4: 'Unknown',\n",
    "    5: 'White'\n",
    "})"
   ]
  },
  {
   "cell_type": "code",
   "execution_count": 10,
   "metadata": {
    "scrolled": true
   },
   "outputs": [
    {
     "data": {
      "text/plain": [
       "White              12490\n",
       "Black               9366\n",
       "Asian                342\n",
       "Other                269\n",
       "Data missing         124\n",
       "Unknown               28\n",
       "American Indian       15\n",
       "Name: Race_num, dtype: int64"
      ]
     },
     "execution_count": 10,
     "metadata": {},
     "output_type": "execute_result"
    }
   ],
   "source": [
    "df['Race_num'].value_counts()"
   ]
  },
  {
   "cell_type": "markdown",
   "metadata": {},
   "source": [
    "## What percent of the dataset is men, and what percent is women?\n",
    "\n",
    "It should display as **Male** and **Female**, not as numbers."
   ]
  },
  {
   "cell_type": "code",
   "execution_count": 11,
   "metadata": {},
   "outputs": [
    {
     "data": {
      "text/plain": [
       "Male            16158\n",
       "Female           6363\n",
       "Data missing      101\n",
       "Unknown            12\n",
       "Name: Gender_num, dtype: int64"
      ]
     },
     "execution_count": 11,
     "metadata": {},
     "output_type": "execute_result"
    }
   ],
   "source": [
    "df['Gender_num'].value_counts() "
   ]
  },
  {
   "cell_type": "code",
   "execution_count": 12,
   "metadata": {},
   "outputs": [
    {
     "data": {
      "text/plain": [
       "count     22634\n",
       "unique        4\n",
       "top        Male\n",
       "freq      16158\n",
       "Name: Gender_num, dtype: object"
      ]
     },
     "execution_count": 12,
     "metadata": {},
     "output_type": "execute_result"
    }
   ],
   "source": [
    "df['Gender_num'].describe()\n",
    "\n",
    "# I guess that was unecessary"
   ]
  },
  {
   "cell_type": "code",
   "execution_count": 13,
   "metadata": {},
   "outputs": [
    {
     "data": {
      "text/plain": [
       "Male            0.713882\n",
       "Female          0.281126\n",
       "Data missing    0.004462\n",
       "Unknown         0.000530\n",
       "Name: Gender_num, dtype: float64"
      ]
     },
     "execution_count": 13,
     "metadata": {},
     "output_type": "execute_result"
    }
   ],
   "source": [
    "df['Gender_num'].value_counts(normalize=True)"
   ]
  },
  {
   "cell_type": "markdown",
   "metadata": {},
   "source": [
    "## Getting rid of \"Data missing\"\n",
    "\n",
    "`Unknown` means that officially the gender or race is unknown, while `Data missing` means the record is incomplete. That means \"Data missing\" should have been `NaN`!\n",
    "\n",
    "Go back to your `read_csv` many cells before and make it so that \"Data missing\" is automatically set as `NaN`.\n",
    "\n",
    "- *Tip: Do not use `.replace` for this one!*\n",
    "- *Tip: Look at the options for `read_csv`, there's something that lets you specify missing values*\n",
    "- *Tip: It isn't `\"Data missing\"` - think about how you already replaced*\n",
    "- *Tip: Be sure you're using an array when you tell it what the 'missing' options are*\n",
    "\n",
    "### After you've done this, re-run all of the the previous cells and confirm that `\"Data missing\"` does not exist any more"
   ]
  },
  {
   "cell_type": "code",
   "execution_count": 14,
   "metadata": {},
   "outputs": [],
   "source": [
    "df = pd.read_csv('case-archive-encoded.csv', na_values=['Data missing'])"
   ]
  },
  {
   "cell_type": "markdown",
   "metadata": {},
   "source": [
    "## What is the most common race in the dataset? We want percentages.\n",
    "\n",
    "We'll come back to this later, I'm just having you check the column for now."
   ]
  },
  {
   "cell_type": "code",
   "execution_count": 15,
   "metadata": {},
   "outputs": [],
   "source": [
    "# here it doesn't let me do stuff with 'Gender_num', although a few lines up I could."
   ]
  },
  {
   "cell_type": "markdown",
   "metadata": {},
   "source": [
    "## Do a `.value_counts()` on the `Opioid Related` column"
   ]
  },
  {
   "cell_type": "code",
   "execution_count": 16,
   "metadata": {},
   "outputs": [
    {
     "data": {
      "text/plain": [
       "True    3378\n",
       "Name: Opioid Related, dtype: int64"
      ]
     },
     "execution_count": 16,
     "metadata": {},
     "output_type": "execute_result"
    }
   ],
   "source": [
    "df['Opioid Related'].value_counts()"
   ]
  },
  {
   "cell_type": "markdown",
   "metadata": {},
   "source": [
    "## That's weird. Did everyone die from opioids? Try again, but including missing data."
   ]
  },
  {
   "cell_type": "code",
   "execution_count": 17,
   "metadata": {},
   "outputs": [
    {
     "data": {
      "text/plain": [
       "NaN     19256\n",
       "True     3378\n",
       "Name: Opioid Related, dtype: int64"
      ]
     },
     "execution_count": 17,
     "metadata": {},
     "output_type": "execute_result"
    }
   ],
   "source": [
    "df['Opioid Related'].value_counts(dropna=False)"
   ]
  },
  {
   "cell_type": "markdown",
   "metadata": {},
   "source": [
    "## Cleaning up True/False columns\n",
    "\n",
    "For some reason in this dataset, the True/False columns are either `True` or `NaN`. `NaN` causes a lot of problems, I'd rather have it be false.\n",
    "\n",
    "You can use [`fillna`](http://pandas.pydata.org/pandas-docs/version/0.22/generated/pandas.DataFrame.fillna.html) to fill in empty data - it's like `.replace` but for `NaN`.\n",
    "\n",
    "### Replace all `NaN` values with `False` for the \"Gun Related\" and \"Opioid Related\" columns."
   ]
  },
  {
   "cell_type": "code",
   "execution_count": 18,
   "metadata": {},
   "outputs": [],
   "source": [
    "df['Gun Related'] = df['Gun Related'].fillna('False')"
   ]
  },
  {
   "cell_type": "code",
   "execution_count": 19,
   "metadata": {},
   "outputs": [],
   "source": [
    "df['Opioid Related'] = df['Opioid Related'].fillna('False')"
   ]
  },
  {
   "cell_type": "markdown",
   "metadata": {},
   "source": [
    "### Do another value counts on Opioid Related to make sure it has both True and False values"
   ]
  },
  {
   "cell_type": "code",
   "execution_count": 20,
   "metadata": {},
   "outputs": [
    {
     "data": {
      "text/plain": [
       "False    19256\n",
       "True      3378\n",
       "Name: Opioid Related, dtype: int64"
      ]
     },
     "execution_count": 20,
     "metadata": {},
     "output_type": "execute_result"
    }
   ],
   "source": [
    "df['Opioid Related'].value_counts()"
   ]
  },
  {
   "cell_type": "code",
   "execution_count": 21,
   "metadata": {},
   "outputs": [
    {
     "data": {
      "text/plain": [
       "False    19615\n",
       "True      3019\n",
       "Name: Gun Related, dtype: int64"
      ]
     },
     "execution_count": 21,
     "metadata": {},
     "output_type": "execute_result"
    }
   ],
   "source": [
    "#just checking the other too\n",
    "\n",
    "df['Gun Related'].value_counts()"
   ]
  },
  {
   "cell_type": "markdown",
   "metadata": {},
   "source": [
    "# Back to analysis!"
   ]
  },
  {
   "cell_type": "markdown",
   "metadata": {},
   "source": [
    "## What's the average age people were when they died?"
   ]
  },
  {
   "cell_type": "code",
   "execution_count": 22,
   "metadata": {},
   "outputs": [
    {
     "data": {
      "text/plain": [
       "51.279928793947484"
      ]
     },
     "execution_count": 22,
     "metadata": {},
     "output_type": "execute_result"
    }
   ],
   "source": [
    "df.Age.mean()"
   ]
  },
  {
   "cell_type": "markdown",
   "metadata": {},
   "source": [
    "## Let's look at how the oldest people died\n",
    "\n",
    "We're just going to browse. Read through how the **oldest 30 people died.**"
   ]
  },
  {
   "cell_type": "code",
   "execution_count": 23,
   "metadata": {},
   "outputs": [
    {
     "data": {
      "text/html": [
       "<div>\n",
       "<style scoped>\n",
       "    .dataframe tbody tr th:only-of-type {\n",
       "        vertical-align: middle;\n",
       "    }\n",
       "\n",
       "    .dataframe tbody tr th {\n",
       "        vertical-align: top;\n",
       "    }\n",
       "\n",
       "    .dataframe thead th {\n",
       "        text-align: right;\n",
       "    }\n",
       "</style>\n",
       "<table border=\"1\" class=\"dataframe\">\n",
       "  <thead>\n",
       "    <tr style=\"text-align: right;\">\n",
       "      <th></th>\n",
       "      <th>Case Number</th>\n",
       "      <th>Date of Incident</th>\n",
       "      <th>Date of Death</th>\n",
       "      <th>Age</th>\n",
       "      <th>Gender</th>\n",
       "      <th>Race</th>\n",
       "      <th>Latino</th>\n",
       "      <th>Manner of Death</th>\n",
       "      <th>Primary Cause</th>\n",
       "      <th>Primary Cause Line B</th>\n",
       "      <th>Primary Cause Line C</th>\n",
       "      <th>Secondary Cause</th>\n",
       "      <th>Gun Related</th>\n",
       "      <th>Opioid Related</th>\n",
       "      <th>Incident Address</th>\n",
       "      <th>Incident City</th>\n",
       "      <th>longitude</th>\n",
       "      <th>latitude</th>\n",
       "      <th>OBJECTID</th>\n",
       "      <th>location</th>\n",
       "    </tr>\n",
       "  </thead>\n",
       "  <tbody>\n",
       "    <tr>\n",
       "      <th>21142</th>\n",
       "      <td>ME2018-00494</td>\n",
       "      <td>01/11/2018 12:00:00 PM</td>\n",
       "      <td>01/24/2018 03:48:00 PM</td>\n",
       "      <td>106.0</td>\n",
       "      <td>0</td>\n",
       "      <td>5</td>\n",
       "      <td>False</td>\n",
       "      <td>ACCIDENT</td>\n",
       "      <td>COMPLICATIONS OF A FALL</td>\n",
       "      <td>NaN</td>\n",
       "      <td>NaN</td>\n",
       "      <td>NaN</td>\n",
       "      <td>False</td>\n",
       "      <td>False</td>\n",
       "      <td>627 ORIOLE DR   SYMPHONY NURSING HOME</td>\n",
       "      <td>STREAMWOOD</td>\n",
       "      <td>-88.166639</td>\n",
       "      <td>42.014994</td>\n",
       "      <td>61564</td>\n",
       "      <td>(42.0149937, -88.1666392)</td>\n",
       "    </tr>\n",
       "    <tr>\n",
       "      <th>17602</th>\n",
       "      <td>ME2017-02853</td>\n",
       "      <td>06/19/2017 08:15:00 PM</td>\n",
       "      <td>06/20/2017 10:08:00 PM</td>\n",
       "      <td>106.0</td>\n",
       "      <td>0</td>\n",
       "      <td>5</td>\n",
       "      <td>False</td>\n",
       "      <td>NaN</td>\n",
       "      <td>ACUTE MYOCARDIAL INFARCTION</td>\n",
       "      <td>NaN</td>\n",
       "      <td>NaN</td>\n",
       "      <td>FRACTURE OF FEMUR DUE TO FALL, HYPERTENSIVE AN...</td>\n",
       "      <td>False</td>\n",
       "      <td>False</td>\n",
       "      <td>8021 W 151st St</td>\n",
       "      <td>ORLAND PARK</td>\n",
       "      <td>-87.815531</td>\n",
       "      <td>41.615936</td>\n",
       "      <td>59223</td>\n",
       "      <td>(41.6159359, -87.8155315)</td>\n",
       "    </tr>\n",
       "    <tr>\n",
       "      <th>12106</th>\n",
       "      <td>ME2016-03535</td>\n",
       "      <td>07/20/2016 06:30:00 PM</td>\n",
       "      <td>07/20/2016 06:58:00 PM</td>\n",
       "      <td>105.0</td>\n",
       "      <td>0</td>\n",
       "      <td>5</td>\n",
       "      <td>False</td>\n",
       "      <td>NATURAL</td>\n",
       "      <td>ORGANIC CARDIOVASCULAR DISEASE</td>\n",
       "      <td>NaN</td>\n",
       "      <td>NaN</td>\n",
       "      <td>NaN</td>\n",
       "      <td>False</td>\n",
       "      <td>False</td>\n",
       "      <td>126 DIVERSEY</td>\n",
       "      <td>NORTHLAKE</td>\n",
       "      <td>-87.908596</td>\n",
       "      <td>41.929038</td>\n",
       "      <td>57807</td>\n",
       "      <td>(41.9290381, -87.9085962)</td>\n",
       "    </tr>\n",
       "    <tr>\n",
       "      <th>4942</th>\n",
       "      <td>ME2015-01809</td>\n",
       "      <td>04/26/2015 03:30:00 PM</td>\n",
       "      <td>05/03/2015 03:06:00 PM</td>\n",
       "      <td>103.0</td>\n",
       "      <td>0</td>\n",
       "      <td>5</td>\n",
       "      <td>False</td>\n",
       "      <td>ACCIDENT</td>\n",
       "      <td>COMPLICATIONS OF FALL</td>\n",
       "      <td>NaN</td>\n",
       "      <td>NaN</td>\n",
       "      <td>NaN</td>\n",
       "      <td>False</td>\n",
       "      <td>False</td>\n",
       "      <td>7 WILLOW COURT</td>\n",
       "      <td>COUNTRYSIDE</td>\n",
       "      <td>-87.860635</td>\n",
       "      <td>41.783044</td>\n",
       "      <td>56056</td>\n",
       "      <td>(41.7830443, -87.8606347)</td>\n",
       "    </tr>\n",
       "    <tr>\n",
       "      <th>9376</th>\n",
       "      <td>ME2016-00729</td>\n",
       "      <td>02/10/2016 11:53:00 PM</td>\n",
       "      <td>02/11/2016 12:25:00 AM</td>\n",
       "      <td>103.0</td>\n",
       "      <td>0</td>\n",
       "      <td>5</td>\n",
       "      <td>False</td>\n",
       "      <td>NATURAL</td>\n",
       "      <td>ARTERIOSCLEROTIC CARDIOVASCULAR DISEASE</td>\n",
       "      <td>NaN</td>\n",
       "      <td>NaN</td>\n",
       "      <td>NaN</td>\n",
       "      <td>False</td>\n",
       "      <td>False</td>\n",
       "      <td>1933 Arklow Street</td>\n",
       "      <td>SCHAUMBURG</td>\n",
       "      <td>-88.127944</td>\n",
       "      <td>42.025985</td>\n",
       "      <td>61674</td>\n",
       "      <td>(42.0259851, -88.1279436)</td>\n",
       "    </tr>\n",
       "    <tr>\n",
       "      <th>8653</th>\n",
       "      <td>ME2015-05648</td>\n",
       "      <td>12/28/2015 09:30:00 PM</td>\n",
       "      <td>12/28/2015 09:59:00 PM</td>\n",
       "      <td>103.0</td>\n",
       "      <td>0</td>\n",
       "      <td>2</td>\n",
       "      <td>False</td>\n",
       "      <td>NATURAL</td>\n",
       "      <td>HYPERTENSIVE ARTERIOSCLEROTIC CARDIOVASCULAR D...</td>\n",
       "      <td>NaN</td>\n",
       "      <td>NaN</td>\n",
       "      <td>NaN</td>\n",
       "      <td>False</td>\n",
       "      <td>False</td>\n",
       "      <td>4206 W. POTOMAC, 1ST FLOOR</td>\n",
       "      <td>CHICAGO</td>\n",
       "      <td>-87.731690</td>\n",
       "      <td>41.904602</td>\n",
       "      <td>68911</td>\n",
       "      <td>(41.904602, -87.7316903)</td>\n",
       "    </tr>\n",
       "    <tr>\n",
       "      <th>14697</th>\n",
       "      <td>ME2016-06170</td>\n",
       "      <td>12/23/2016 10:30:00 PM</td>\n",
       "      <td>12/24/2016 02:00:00 AM</td>\n",
       "      <td>101.0</td>\n",
       "      <td>0</td>\n",
       "      <td>2</td>\n",
       "      <td>False</td>\n",
       "      <td>ACCIDENT</td>\n",
       "      <td>INHALATION OF PRODUCTS OF COMBUSTION</td>\n",
       "      <td>NaN</td>\n",
       "      <td>NaN</td>\n",
       "      <td>NaN</td>\n",
       "      <td>False</td>\n",
       "      <td>False</td>\n",
       "      <td>2000 S. 9TH</td>\n",
       "      <td>MAYWOOD</td>\n",
       "      <td>-87.843632</td>\n",
       "      <td>41.867806</td>\n",
       "      <td>62018</td>\n",
       "      <td>(41.8678057, -87.8436321)</td>\n",
       "    </tr>\n",
       "    <tr>\n",
       "      <th>11558</th>\n",
       "      <td>ME2016-02979</td>\n",
       "      <td>06/12/2016 08:30:00 AM</td>\n",
       "      <td>06/17/2016 07:50:00 AM</td>\n",
       "      <td>101.0</td>\n",
       "      <td>0</td>\n",
       "      <td>5</td>\n",
       "      <td>False</td>\n",
       "      <td>ACCIDENT</td>\n",
       "      <td>COMPLICATIONS OF LEFT FEMORAL NECK FRACTURE</td>\n",
       "      <td>NaN</td>\n",
       "      <td>NaN</td>\n",
       "      <td>DEMENTIA, HYPERTENSION, ANEMIA</td>\n",
       "      <td>False</td>\n",
       "      <td>False</td>\n",
       "      <td>1270 FRANCISCAN DRIVE - MOTHER TERESA NH</td>\n",
       "      <td>LEMONT</td>\n",
       "      <td>-87.972860</td>\n",
       "      <td>41.679977</td>\n",
       "      <td>63499</td>\n",
       "      <td>(41.6799768, -87.9728597)</td>\n",
       "    </tr>\n",
       "    <tr>\n",
       "      <th>9904</th>\n",
       "      <td>ME2016-01281</td>\n",
       "      <td>03/13/2016 04:30:00 PM</td>\n",
       "      <td>03/13/2016 04:57:00 PM</td>\n",
       "      <td>101.0</td>\n",
       "      <td>1</td>\n",
       "      <td>5</td>\n",
       "      <td>False</td>\n",
       "      <td>NATURAL</td>\n",
       "      <td>ORGANIC CARDIOVASCULAR DISEASE</td>\n",
       "      <td>NaN</td>\n",
       "      <td>NaN</td>\n",
       "      <td>NaN</td>\n",
       "      <td>False</td>\n",
       "      <td>False</td>\n",
       "      <td>3409 SOUTH ASHLAND, 1ST FLOOR REAR APT.</td>\n",
       "      <td>CHICAGO</td>\n",
       "      <td>-87.665314</td>\n",
       "      <td>41.831971</td>\n",
       "      <td>65188</td>\n",
       "      <td>(41.831971, -87.6653139)</td>\n",
       "    </tr>\n",
       "    <tr>\n",
       "      <th>13498</th>\n",
       "      <td>ME2016-04942</td>\n",
       "      <td>10/14/2016 04:00:00 PM</td>\n",
       "      <td>10/14/2016 04:21:00 PM</td>\n",
       "      <td>101.0</td>\n",
       "      <td>0</td>\n",
       "      <td>5</td>\n",
       "      <td>False</td>\n",
       "      <td>NATURAL</td>\n",
       "      <td>ORGANIC CARDIOVASCULAR DISEASE</td>\n",
       "      <td>NaN</td>\n",
       "      <td>NaN</td>\n",
       "      <td>NaN</td>\n",
       "      <td>False</td>\n",
       "      <td>False</td>\n",
       "      <td>2626 NORTH LAKEVIEW, UNIT 3008</td>\n",
       "      <td>CHICAGO</td>\n",
       "      <td>-87.639827</td>\n",
       "      <td>41.930351</td>\n",
       "      <td>67009</td>\n",
       "      <td>(41.9303508, -87.6398266)</td>\n",
       "    </tr>\n",
       "    <tr>\n",
       "      <th>5621</th>\n",
       "      <td>ME2015-02517</td>\n",
       "      <td>06/17/2015 10:30:00 AM</td>\n",
       "      <td>06/17/2015 10:50:00 AM</td>\n",
       "      <td>101.0</td>\n",
       "      <td>0</td>\n",
       "      <td>5</td>\n",
       "      <td>False</td>\n",
       "      <td>NATURAL</td>\n",
       "      <td>HYPERTENSIVE AND ARTERIOSCLEROTIC CARDIOVASCUL...</td>\n",
       "      <td>NaN</td>\n",
       "      <td>NaN</td>\n",
       "      <td>NaN</td>\n",
       "      <td>False</td>\n",
       "      <td>False</td>\n",
       "      <td>420 N. WOLF RD. #229</td>\n",
       "      <td>NORTHLAKE</td>\n",
       "      <td>-87.905080</td>\n",
       "      <td>41.915730</td>\n",
       "      <td>58002</td>\n",
       "      <td>(41.9157304, -87.9050796)</td>\n",
       "    </tr>\n",
       "    <tr>\n",
       "      <th>8656</th>\n",
       "      <td>ME2015-05651</td>\n",
       "      <td>12/30/2015 04:30:00 PM</td>\n",
       "      <td>12/30/2015 04:50:00 PM</td>\n",
       "      <td>101.0</td>\n",
       "      <td>1</td>\n",
       "      <td>5</td>\n",
       "      <td>False</td>\n",
       "      <td>NATURAL</td>\n",
       "      <td>ORGANIC CARDIOVASCULAR DISEASE</td>\n",
       "      <td>NaN</td>\n",
       "      <td>NaN</td>\n",
       "      <td>NaN</td>\n",
       "      <td>False</td>\n",
       "      <td>False</td>\n",
       "      <td>733 W. 19TH STREET, GROUND APT</td>\n",
       "      <td>CHICAGO</td>\n",
       "      <td>-87.646042</td>\n",
       "      <td>41.856563</td>\n",
       "      <td>67437</td>\n",
       "      <td>(41.8565629, -87.646042)</td>\n",
       "    </tr>\n",
       "    <tr>\n",
       "      <th>8780</th>\n",
       "      <td>ME2016-00111</td>\n",
       "      <td>12/28/2015 11:11:00 PM</td>\n",
       "      <td>01/03/2016 11:40:00 AM</td>\n",
       "      <td>100.0</td>\n",
       "      <td>0</td>\n",
       "      <td>5</td>\n",
       "      <td>False</td>\n",
       "      <td>ACCIDENT</td>\n",
       "      <td>COMPLICATIONS OF FRACTURE OF FEMUR</td>\n",
       "      <td>NaN</td>\n",
       "      <td>NaN</td>\n",
       "      <td>HYPERTENSIVE CARDIOVASCULAR DISEASE</td>\n",
       "      <td>False</td>\n",
       "      <td>False</td>\n",
       "      <td>5333 N SHERIDAN RD #23J</td>\n",
       "      <td>CHICAGO</td>\n",
       "      <td>-87.654376</td>\n",
       "      <td>41.979434</td>\n",
       "      <td>74168</td>\n",
       "      <td>(41.9794337, -87.6543755)</td>\n",
       "    </tr>\n",
       "    <tr>\n",
       "      <th>5817</th>\n",
       "      <td>ME2015-02723</td>\n",
       "      <td>06/29/2015 11:00:00 AM</td>\n",
       "      <td>06/29/2015 11:46:00 AM</td>\n",
       "      <td>100.0</td>\n",
       "      <td>1</td>\n",
       "      <td>5</td>\n",
       "      <td>False</td>\n",
       "      <td>NATURAL</td>\n",
       "      <td>ASCVD</td>\n",
       "      <td>NaN</td>\n",
       "      <td>NaN</td>\n",
       "      <td>NaN</td>\n",
       "      <td>False</td>\n",
       "      <td>False</td>\n",
       "      <td>1316 CONCORD LN</td>\n",
       "      <td>SCHAUMBURG</td>\n",
       "      <td>-88.112903</td>\n",
       "      <td>42.012324</td>\n",
       "      <td>62245</td>\n",
       "      <td>(42.0123239, -88.1129032)</td>\n",
       "    </tr>\n",
       "    <tr>\n",
       "      <th>4239</th>\n",
       "      <td>ME2015-01074</td>\n",
       "      <td>03/12/2015 10:00:00 AM</td>\n",
       "      <td>03/12/2015 04:30:00 PM</td>\n",
       "      <td>100.0</td>\n",
       "      <td>0</td>\n",
       "      <td>5</td>\n",
       "      <td>False</td>\n",
       "      <td>ACCIDENT</td>\n",
       "      <td>FRACTURE OF HIP</td>\n",
       "      <td>NaN</td>\n",
       "      <td>NaN</td>\n",
       "      <td>HYPERTENSIVE CARDIOVASCULAR DISEASE, CHRONIC R...</td>\n",
       "      <td>False</td>\n",
       "      <td>False</td>\n",
       "      <td>640 BERGANDY COURT</td>\n",
       "      <td>ELK GROVE VILLAGE</td>\n",
       "      <td>NaN</td>\n",
       "      <td>NaN</td>\n",
       "      <td>60570</td>\n",
       "      <td>NaN</td>\n",
       "    </tr>\n",
       "    <tr>\n",
       "      <th>7898</th>\n",
       "      <td>ME2015-04864</td>\n",
       "      <td>10/15/2015 07:41:00 PM</td>\n",
       "      <td>11/10/2015 10:30:00 PM</td>\n",
       "      <td>100.0</td>\n",
       "      <td>0</td>\n",
       "      <td>5</td>\n",
       "      <td>False</td>\n",
       "      <td>ACCIDENT</td>\n",
       "      <td>COMPLICATIONS OF RIGHT HIP FRACTURE</td>\n",
       "      <td>NaN</td>\n",
       "      <td>NaN</td>\n",
       "      <td>ATRIAL FIBRILLATION, DEMENTIA</td>\n",
       "      <td>False</td>\n",
       "      <td>False</td>\n",
       "      <td>336 S Windsor</td>\n",
       "      <td>ARLINGTON HEIGHTS</td>\n",
       "      <td>-87.964208</td>\n",
       "      <td>42.077622</td>\n",
       "      <td>60002</td>\n",
       "      <td>(42.0776216, -87.9642079)</td>\n",
       "    </tr>\n",
       "    <tr>\n",
       "      <th>14044</th>\n",
       "      <td>ME2016-05503</td>\n",
       "      <td>11/16/2016 09:55:00 AM</td>\n",
       "      <td>11/16/2016 10:00:00 AM</td>\n",
       "      <td>100.0</td>\n",
       "      <td>1</td>\n",
       "      <td>2</td>\n",
       "      <td>False</td>\n",
       "      <td>NATURAL</td>\n",
       "      <td>ORGANIC CARDIOVASCULAR DISEASE</td>\n",
       "      <td>NaN</td>\n",
       "      <td>NaN</td>\n",
       "      <td>NaN</td>\n",
       "      <td>False</td>\n",
       "      <td>False</td>\n",
       "      <td>4900 W. POTOMAC 1ST FLR.</td>\n",
       "      <td>CHICAGO</td>\n",
       "      <td>-87.748635</td>\n",
       "      <td>41.904362</td>\n",
       "      <td>76597</td>\n",
       "      <td>(41.904362, -87.7486353)</td>\n",
       "    </tr>\n",
       "    <tr>\n",
       "      <th>13696</th>\n",
       "      <td>ME2016-05143</td>\n",
       "      <td>09/30/2016 12:00:00 PM</td>\n",
       "      <td>10/28/2016 04:08:00 AM</td>\n",
       "      <td>100.0</td>\n",
       "      <td>0</td>\n",
       "      <td>2</td>\n",
       "      <td>False</td>\n",
       "      <td>ACCIDENT</td>\n",
       "      <td>COMPLICATIONS OF BILATERAL FEMUR FRACTURES</td>\n",
       "      <td>NaN</td>\n",
       "      <td>NaN</td>\n",
       "      <td>HYPERTENSIVE CARDIOVASCULAR DISEASE</td>\n",
       "      <td>False</td>\n",
       "      <td>False</td>\n",
       "      <td>Citadel NH 3701 W 183rd</td>\n",
       "      <td>HAZEL CREST</td>\n",
       "      <td>-87.706555</td>\n",
       "      <td>41.556419</td>\n",
       "      <td>63741</td>\n",
       "      <td>(41.5564191, -87.7065553)</td>\n",
       "    </tr>\n",
       "    <tr>\n",
       "      <th>798</th>\n",
       "      <td>ME2018-01708</td>\n",
       "      <td>04/08/2018 03:03:00 PM</td>\n",
       "      <td>04/08/2018 03:12:00 PM</td>\n",
       "      <td>100.0</td>\n",
       "      <td>0</td>\n",
       "      <td>5</td>\n",
       "      <td>False</td>\n",
       "      <td>NATURAL</td>\n",
       "      <td>ORGANIC CARDIOVASCULAR DISEASE</td>\n",
       "      <td>NaN</td>\n",
       "      <td>NaN</td>\n",
       "      <td>NaN</td>\n",
       "      <td>False</td>\n",
       "      <td>False</td>\n",
       "      <td>4035 North Leclaire</td>\n",
       "      <td>CHICAGO</td>\n",
       "      <td>-87.754434</td>\n",
       "      <td>41.954423</td>\n",
       "      <td>73911</td>\n",
       "      <td>(41.9544229, -87.7544336)</td>\n",
       "    </tr>\n",
       "    <tr>\n",
       "      <th>10335</th>\n",
       "      <td>ME2016-01724</td>\n",
       "      <td>04/08/2016 06:00:00 AM</td>\n",
       "      <td>04/08/2016 06:47:00 AM</td>\n",
       "      <td>100.0</td>\n",
       "      <td>1</td>\n",
       "      <td>5</td>\n",
       "      <td>False</td>\n",
       "      <td>NATURAL</td>\n",
       "      <td>ARTERIOSCLEROTIC CARDIOVASCULAR DISEASE</td>\n",
       "      <td>NaN</td>\n",
       "      <td>NaN</td>\n",
       "      <td>NaN</td>\n",
       "      <td>False</td>\n",
       "      <td>False</td>\n",
       "      <td>2705 NORTH MOBILE</td>\n",
       "      <td>CHICAGO</td>\n",
       "      <td>-87.782931</td>\n",
       "      <td>41.929431</td>\n",
       "      <td>73899</td>\n",
       "      <td>(41.9294315, -87.7829312)</td>\n",
       "    </tr>\n",
       "    <tr>\n",
       "      <th>3985</th>\n",
       "      <td>ME2015-00812</td>\n",
       "      <td>02/19/2015 12:00:00 PM</td>\n",
       "      <td>02/25/2015 06:44:00 AM</td>\n",
       "      <td>100.0</td>\n",
       "      <td>0</td>\n",
       "      <td>5</td>\n",
       "      <td>False</td>\n",
       "      <td>ACCIDENT</td>\n",
       "      <td>HYPERTENSIVE AND ARTERIOSCLEROTIC CARDIOVASCUL...</td>\n",
       "      <td>NaN</td>\n",
       "      <td>NaN</td>\n",
       "      <td>FRACTURE OF RIGTH TIBIA,  ALZHEIMER'S DISEASE,...</td>\n",
       "      <td>False</td>\n",
       "      <td>False</td>\n",
       "      <td>Lexington Hospice, 815 E Irving Park Rd</td>\n",
       "      <td>STREAMWOOD</td>\n",
       "      <td>NaN</td>\n",
       "      <td>NaN</td>\n",
       "      <td>61176</td>\n",
       "      <td>NaN</td>\n",
       "    </tr>\n",
       "    <tr>\n",
       "      <th>9859</th>\n",
       "      <td>ME2016-01233</td>\n",
       "      <td>02/28/2016 10:25:00 AM</td>\n",
       "      <td>03/10/2016 03:20:00 AM</td>\n",
       "      <td>100.0</td>\n",
       "      <td>0</td>\n",
       "      <td>1</td>\n",
       "      <td>False</td>\n",
       "      <td>ACCIDENT</td>\n",
       "      <td>SUBDURAL HEMORRHAGE</td>\n",
       "      <td>NaN</td>\n",
       "      <td>NaN</td>\n",
       "      <td>ATRIAL FIBRILLATION, HYPERTENSIVE AND ATHEROSC...</td>\n",
       "      <td>False</td>\n",
       "      <td>False</td>\n",
       "      <td>1045 SOUTH GROVE AVENUE</td>\n",
       "      <td>OAK PARK</td>\n",
       "      <td>-87.795475</td>\n",
       "      <td>41.868916</td>\n",
       "      <td>63202</td>\n",
       "      <td>(41.8689159, -87.7954748)</td>\n",
       "    </tr>\n",
       "    <tr>\n",
       "      <th>17789</th>\n",
       "      <td>ME2017-03051</td>\n",
       "      <td>07/02/2017 03:45:00 PM</td>\n",
       "      <td>07/02/2017 05:40:00 PM</td>\n",
       "      <td>100.0</td>\n",
       "      <td>0</td>\n",
       "      <td>5</td>\n",
       "      <td>False</td>\n",
       "      <td>ACCIDENT</td>\n",
       "      <td>ASPHYXIA</td>\n",
       "      <td>NaN</td>\n",
       "      <td>NaN</td>\n",
       "      <td>ORGANIC CARDIOVASCULAR DISEASE</td>\n",
       "      <td>False</td>\n",
       "      <td>False</td>\n",
       "      <td>6840 N. SACRAMENTO AVENUE, ROOM# 414B</td>\n",
       "      <td>CHICAGO</td>\n",
       "      <td>NaN</td>\n",
       "      <td>NaN</td>\n",
       "      <td>75141</td>\n",
       "      <td>NaN</td>\n",
       "    </tr>\n",
       "    <tr>\n",
       "      <th>4015</th>\n",
       "      <td>ME2015-00842</td>\n",
       "      <td>02/16/2015 08:34:00 PM</td>\n",
       "      <td>02/26/2015 06:45:00 PM</td>\n",
       "      <td>100.0</td>\n",
       "      <td>0</td>\n",
       "      <td>5</td>\n",
       "      <td>False</td>\n",
       "      <td>ACCIDENT</td>\n",
       "      <td>COMPLICATIONS FOLLOWING LEFT HIP FRACTURE</td>\n",
       "      <td>NaN</td>\n",
       "      <td>NaN</td>\n",
       "      <td>HYPERTENSIVE AND ARTERIOSCLEROTIC CARDIOVASCUL...</td>\n",
       "      <td>False</td>\n",
       "      <td>False</td>\n",
       "      <td>800 West Central Road</td>\n",
       "      <td>ARLINGTON HEIGHTS</td>\n",
       "      <td>-87.992553</td>\n",
       "      <td>42.068009</td>\n",
       "      <td>60130</td>\n",
       "      <td>(42.0680087, -87.9925527)</td>\n",
       "    </tr>\n",
       "    <tr>\n",
       "      <th>17142</th>\n",
       "      <td>ME2017-02376</td>\n",
       "      <td>05/24/2017 04:30:00 PM</td>\n",
       "      <td>05/24/2017 05:47:00 PM</td>\n",
       "      <td>100.0</td>\n",
       "      <td>0</td>\n",
       "      <td>5</td>\n",
       "      <td>False</td>\n",
       "      <td>NATURAL</td>\n",
       "      <td>ORGANIC CARDIOVASCULAR DISEASE</td>\n",
       "      <td>NaN</td>\n",
       "      <td>NaN</td>\n",
       "      <td>NaN</td>\n",
       "      <td>False</td>\n",
       "      <td>False</td>\n",
       "      <td>WEST 36TH ST AND HERMITAGE AVE</td>\n",
       "      <td>CHICAGO</td>\n",
       "      <td>-87.669137</td>\n",
       "      <td>41.828642</td>\n",
       "      <td>64638</td>\n",
       "      <td>(41.8286417, -87.6691374)</td>\n",
       "    </tr>\n",
       "    <tr>\n",
       "      <th>2610</th>\n",
       "      <td>ME2014-01556</td>\n",
       "      <td>11/19/2014 10:41:00 AM</td>\n",
       "      <td>11/20/2014 08:35:00 PM</td>\n",
       "      <td>100.0</td>\n",
       "      <td>0</td>\n",
       "      <td>5</td>\n",
       "      <td>False</td>\n",
       "      <td>ACCIDENT</td>\n",
       "      <td>COMPLICATIONS OF RIGHT FEMORAL NECK FRACTURE</td>\n",
       "      <td>NaN</td>\n",
       "      <td>NaN</td>\n",
       "      <td>HYPERTENSIVE AND ATHEROSCLEROTIC CARDIOVASCULA...</td>\n",
       "      <td>False</td>\n",
       "      <td>False</td>\n",
       "      <td>6631 N. Milwaukee</td>\n",
       "      <td>NILES</td>\n",
       "      <td>-87.791694</td>\n",
       "      <td>42.002101</td>\n",
       "      <td>77212</td>\n",
       "      <td>(42.0021012, -87.7916938)</td>\n",
       "    </tr>\n",
       "    <tr>\n",
       "      <th>5951</th>\n",
       "      <td>ME2015-02861</td>\n",
       "      <td>07/07/2015 12:15:00 PM</td>\n",
       "      <td>07/07/2015 12:36:00 PM</td>\n",
       "      <td>99.0</td>\n",
       "      <td>1</td>\n",
       "      <td>2</td>\n",
       "      <td>False</td>\n",
       "      <td>NATURAL</td>\n",
       "      <td>ARTERIOSCLEROTIC CARDIOVASCULAR DISEASE</td>\n",
       "      <td>NaN</td>\n",
       "      <td>NaN</td>\n",
       "      <td>NaN</td>\n",
       "      <td>False</td>\n",
       "      <td>False</td>\n",
       "      <td>8915 SOUTH LAFLIN APT 404</td>\n",
       "      <td>CHICAGO</td>\n",
       "      <td>-87.660445</td>\n",
       "      <td>41.731752</td>\n",
       "      <td>64790</td>\n",
       "      <td>(41.7317523, -87.6604447)</td>\n",
       "    </tr>\n",
       "    <tr>\n",
       "      <th>2672</th>\n",
       "      <td>ME2014-01620</td>\n",
       "      <td>11/01/2014 04:26:00 AM</td>\n",
       "      <td>11/24/2014 05:09:00 PM</td>\n",
       "      <td>99.0</td>\n",
       "      <td>0</td>\n",
       "      <td>5</td>\n",
       "      <td>False</td>\n",
       "      <td>ACCIDENT</td>\n",
       "      <td>COMPLICATIONS OF A FALL</td>\n",
       "      <td>NaN</td>\n",
       "      <td>NaN</td>\n",
       "      <td>HYPERTENSIVE AND ATHEROSCLEROTIC CARDIOVASCULA...</td>\n",
       "      <td>False</td>\n",
       "      <td>False</td>\n",
       "      <td>2160 South 1st Avenue</td>\n",
       "      <td>MAYWOOD</td>\n",
       "      <td>-87.834769</td>\n",
       "      <td>41.861100</td>\n",
       "      <td>62445</td>\n",
       "      <td>(41.8610998, -87.8347694)</td>\n",
       "    </tr>\n",
       "    <tr>\n",
       "      <th>916</th>\n",
       "      <td>ME2015-01570</td>\n",
       "      <td>04/17/2015 08:00:00 AM</td>\n",
       "      <td>04/17/2015 08:38:00 AM</td>\n",
       "      <td>99.0</td>\n",
       "      <td>0</td>\n",
       "      <td>5</td>\n",
       "      <td>False</td>\n",
       "      <td>ACCIDENT</td>\n",
       "      <td>CERVICAL INJURIES</td>\n",
       "      <td>NaN</td>\n",
       "      <td>NaN</td>\n",
       "      <td>HYPERTENSIVE-ARTERIOSCLEROTIC CARDIOVASCULAR D...</td>\n",
       "      <td>False</td>\n",
       "      <td>False</td>\n",
       "      <td>CLARE OAKS ASSISTED LIVING</td>\n",
       "      <td>BARTLETT</td>\n",
       "      <td>NaN</td>\n",
       "      <td>NaN</td>\n",
       "      <td>60976</td>\n",
       "      <td>NaN</td>\n",
       "    </tr>\n",
       "    <tr>\n",
       "      <th>8670</th>\n",
       "      <td>ME2016-05013</td>\n",
       "      <td>10/18/2016 11:30:00 AM</td>\n",
       "      <td>10/19/2016 08:37:00 AM</td>\n",
       "      <td>99.0</td>\n",
       "      <td>0</td>\n",
       "      <td>2</td>\n",
       "      <td>False</td>\n",
       "      <td>NATURAL</td>\n",
       "      <td>INTRAPARENCHYMAL HEMORRHAGE OF THE PONS</td>\n",
       "      <td>NaN</td>\n",
       "      <td>NaN</td>\n",
       "      <td>NaN</td>\n",
       "      <td>False</td>\n",
       "      <td>False</td>\n",
       "      <td>14255 S CICERO RM 434</td>\n",
       "      <td>CRESTWOOD</td>\n",
       "      <td>-87.737508</td>\n",
       "      <td>41.633365</td>\n",
       "      <td>60491</td>\n",
       "      <td>(41.6333655, -87.7375081)</td>\n",
       "    </tr>\n",
       "  </tbody>\n",
       "</table>\n",
       "</div>"
      ],
      "text/plain": [
       "        Case Number        Date of Incident           Date of Death    Age  \\\n",
       "21142  ME2018-00494  01/11/2018 12:00:00 PM  01/24/2018 03:48:00 PM  106.0   \n",
       "17602  ME2017-02853  06/19/2017 08:15:00 PM  06/20/2017 10:08:00 PM  106.0   \n",
       "12106  ME2016-03535  07/20/2016 06:30:00 PM  07/20/2016 06:58:00 PM  105.0   \n",
       "4942   ME2015-01809  04/26/2015 03:30:00 PM  05/03/2015 03:06:00 PM  103.0   \n",
       "9376   ME2016-00729  02/10/2016 11:53:00 PM  02/11/2016 12:25:00 AM  103.0   \n",
       "8653   ME2015-05648  12/28/2015 09:30:00 PM  12/28/2015 09:59:00 PM  103.0   \n",
       "14697  ME2016-06170  12/23/2016 10:30:00 PM  12/24/2016 02:00:00 AM  101.0   \n",
       "11558  ME2016-02979  06/12/2016 08:30:00 AM  06/17/2016 07:50:00 AM  101.0   \n",
       "9904   ME2016-01281  03/13/2016 04:30:00 PM  03/13/2016 04:57:00 PM  101.0   \n",
       "13498  ME2016-04942  10/14/2016 04:00:00 PM  10/14/2016 04:21:00 PM  101.0   \n",
       "5621   ME2015-02517  06/17/2015 10:30:00 AM  06/17/2015 10:50:00 AM  101.0   \n",
       "8656   ME2015-05651  12/30/2015 04:30:00 PM  12/30/2015 04:50:00 PM  101.0   \n",
       "8780   ME2016-00111  12/28/2015 11:11:00 PM  01/03/2016 11:40:00 AM  100.0   \n",
       "5817   ME2015-02723  06/29/2015 11:00:00 AM  06/29/2015 11:46:00 AM  100.0   \n",
       "4239   ME2015-01074  03/12/2015 10:00:00 AM  03/12/2015 04:30:00 PM  100.0   \n",
       "7898   ME2015-04864  10/15/2015 07:41:00 PM  11/10/2015 10:30:00 PM  100.0   \n",
       "14044  ME2016-05503  11/16/2016 09:55:00 AM  11/16/2016 10:00:00 AM  100.0   \n",
       "13696  ME2016-05143  09/30/2016 12:00:00 PM  10/28/2016 04:08:00 AM  100.0   \n",
       "798    ME2018-01708  04/08/2018 03:03:00 PM  04/08/2018 03:12:00 PM  100.0   \n",
       "10335  ME2016-01724  04/08/2016 06:00:00 AM  04/08/2016 06:47:00 AM  100.0   \n",
       "3985   ME2015-00812  02/19/2015 12:00:00 PM  02/25/2015 06:44:00 AM  100.0   \n",
       "9859   ME2016-01233  02/28/2016 10:25:00 AM  03/10/2016 03:20:00 AM  100.0   \n",
       "17789  ME2017-03051  07/02/2017 03:45:00 PM  07/02/2017 05:40:00 PM  100.0   \n",
       "4015   ME2015-00842  02/16/2015 08:34:00 PM  02/26/2015 06:45:00 PM  100.0   \n",
       "17142  ME2017-02376  05/24/2017 04:30:00 PM  05/24/2017 05:47:00 PM  100.0   \n",
       "2610   ME2014-01556  11/19/2014 10:41:00 AM  11/20/2014 08:35:00 PM  100.0   \n",
       "5951   ME2015-02861  07/07/2015 12:15:00 PM  07/07/2015 12:36:00 PM   99.0   \n",
       "2672   ME2014-01620  11/01/2014 04:26:00 AM  11/24/2014 05:09:00 PM   99.0   \n",
       "916    ME2015-01570  04/17/2015 08:00:00 AM  04/17/2015 08:38:00 AM   99.0   \n",
       "8670   ME2016-05013  10/18/2016 11:30:00 AM  10/19/2016 08:37:00 AM   99.0   \n",
       "\n",
       "       Gender  Race  Latino Manner of Death  \\\n",
       "21142       0     5   False        ACCIDENT   \n",
       "17602       0     5   False             NaN   \n",
       "12106       0     5   False         NATURAL   \n",
       "4942        0     5   False        ACCIDENT   \n",
       "9376        0     5   False         NATURAL   \n",
       "8653        0     2   False         NATURAL   \n",
       "14697       0     2   False        ACCIDENT   \n",
       "11558       0     5   False        ACCIDENT   \n",
       "9904        1     5   False         NATURAL   \n",
       "13498       0     5   False         NATURAL   \n",
       "5621        0     5   False         NATURAL   \n",
       "8656        1     5   False         NATURAL   \n",
       "8780        0     5   False        ACCIDENT   \n",
       "5817        1     5   False         NATURAL   \n",
       "4239        0     5   False        ACCIDENT   \n",
       "7898        0     5   False        ACCIDENT   \n",
       "14044       1     2   False         NATURAL   \n",
       "13696       0     2   False        ACCIDENT   \n",
       "798         0     5   False         NATURAL   \n",
       "10335       1     5   False         NATURAL   \n",
       "3985        0     5   False        ACCIDENT   \n",
       "9859        0     1   False        ACCIDENT   \n",
       "17789       0     5   False        ACCIDENT   \n",
       "4015        0     5   False        ACCIDENT   \n",
       "17142       0     5   False         NATURAL   \n",
       "2610        0     5   False        ACCIDENT   \n",
       "5951        1     2   False         NATURAL   \n",
       "2672        0     5   False        ACCIDENT   \n",
       "916         0     5   False        ACCIDENT   \n",
       "8670        0     2   False         NATURAL   \n",
       "\n",
       "                                           Primary Cause Primary Cause Line B  \\\n",
       "21142                            COMPLICATIONS OF A FALL                  NaN   \n",
       "17602                        ACUTE MYOCARDIAL INFARCTION                  NaN   \n",
       "12106                     ORGANIC CARDIOVASCULAR DISEASE                  NaN   \n",
       "4942                               COMPLICATIONS OF FALL                  NaN   \n",
       "9376             ARTERIOSCLEROTIC CARDIOVASCULAR DISEASE                  NaN   \n",
       "8653   HYPERTENSIVE ARTERIOSCLEROTIC CARDIOVASCULAR D...                  NaN   \n",
       "14697               INHALATION OF PRODUCTS OF COMBUSTION                  NaN   \n",
       "11558        COMPLICATIONS OF LEFT FEMORAL NECK FRACTURE                  NaN   \n",
       "9904                      ORGANIC CARDIOVASCULAR DISEASE                  NaN   \n",
       "13498                     ORGANIC CARDIOVASCULAR DISEASE                  NaN   \n",
       "5621   HYPERTENSIVE AND ARTERIOSCLEROTIC CARDIOVASCUL...                  NaN   \n",
       "8656                      ORGANIC CARDIOVASCULAR DISEASE                  NaN   \n",
       "8780                  COMPLICATIONS OF FRACTURE OF FEMUR                  NaN   \n",
       "5817                                               ASCVD                  NaN   \n",
       "4239                                     FRACTURE OF HIP                  NaN   \n",
       "7898                 COMPLICATIONS OF RIGHT HIP FRACTURE                  NaN   \n",
       "14044                     ORGANIC CARDIOVASCULAR DISEASE                  NaN   \n",
       "13696         COMPLICATIONS OF BILATERAL FEMUR FRACTURES                  NaN   \n",
       "798                       ORGANIC CARDIOVASCULAR DISEASE                  NaN   \n",
       "10335            ARTERIOSCLEROTIC CARDIOVASCULAR DISEASE                  NaN   \n",
       "3985   HYPERTENSIVE AND ARTERIOSCLEROTIC CARDIOVASCUL...                  NaN   \n",
       "9859                                 SUBDURAL HEMORRHAGE                  NaN   \n",
       "17789                                           ASPHYXIA                  NaN   \n",
       "4015           COMPLICATIONS FOLLOWING LEFT HIP FRACTURE                  NaN   \n",
       "17142                     ORGANIC CARDIOVASCULAR DISEASE                  NaN   \n",
       "2610        COMPLICATIONS OF RIGHT FEMORAL NECK FRACTURE                  NaN   \n",
       "5951             ARTERIOSCLEROTIC CARDIOVASCULAR DISEASE                  NaN   \n",
       "2672                             COMPLICATIONS OF A FALL                  NaN   \n",
       "916                                    CERVICAL INJURIES                  NaN   \n",
       "8670             INTRAPARENCHYMAL HEMORRHAGE OF THE PONS                  NaN   \n",
       "\n",
       "      Primary Cause Line C                                    Secondary Cause  \\\n",
       "21142                  NaN                                                NaN   \n",
       "17602                  NaN  FRACTURE OF FEMUR DUE TO FALL, HYPERTENSIVE AN...   \n",
       "12106                  NaN                                                NaN   \n",
       "4942                   NaN                                                NaN   \n",
       "9376                   NaN                                                NaN   \n",
       "8653                   NaN                                                NaN   \n",
       "14697                  NaN                                                NaN   \n",
       "11558                  NaN                     DEMENTIA, HYPERTENSION, ANEMIA   \n",
       "9904                   NaN                                                NaN   \n",
       "13498                  NaN                                                NaN   \n",
       "5621                   NaN                                                NaN   \n",
       "8656                   NaN                                                NaN   \n",
       "8780                   NaN                HYPERTENSIVE CARDIOVASCULAR DISEASE   \n",
       "5817                   NaN                                                NaN   \n",
       "4239                   NaN  HYPERTENSIVE CARDIOVASCULAR DISEASE, CHRONIC R...   \n",
       "7898                   NaN                      ATRIAL FIBRILLATION, DEMENTIA   \n",
       "14044                  NaN                                                NaN   \n",
       "13696                  NaN                HYPERTENSIVE CARDIOVASCULAR DISEASE   \n",
       "798                    NaN                                                NaN   \n",
       "10335                  NaN                                                NaN   \n",
       "3985                   NaN  FRACTURE OF RIGTH TIBIA,  ALZHEIMER'S DISEASE,...   \n",
       "9859                   NaN  ATRIAL FIBRILLATION, HYPERTENSIVE AND ATHEROSC...   \n",
       "17789                  NaN                     ORGANIC CARDIOVASCULAR DISEASE   \n",
       "4015                   NaN  HYPERTENSIVE AND ARTERIOSCLEROTIC CARDIOVASCUL...   \n",
       "17142                  NaN                                                NaN   \n",
       "2610                   NaN  HYPERTENSIVE AND ATHEROSCLEROTIC CARDIOVASCULA...   \n",
       "5951                   NaN                                                NaN   \n",
       "2672                   NaN  HYPERTENSIVE AND ATHEROSCLEROTIC CARDIOVASCULA...   \n",
       "916                    NaN  HYPERTENSIVE-ARTERIOSCLEROTIC CARDIOVASCULAR D...   \n",
       "8670                   NaN                                                NaN   \n",
       "\n",
       "      Gun Related Opioid Related                          Incident Address  \\\n",
       "21142       False          False     627 ORIOLE DR   SYMPHONY NURSING HOME   \n",
       "17602       False          False                           8021 W 151st St   \n",
       "12106       False          False                              126 DIVERSEY   \n",
       "4942        False          False                            7 WILLOW COURT   \n",
       "9376        False          False                        1933 Arklow Street   \n",
       "8653        False          False                4206 W. POTOMAC, 1ST FLOOR   \n",
       "14697       False          False                               2000 S. 9TH   \n",
       "11558       False          False  1270 FRANCISCAN DRIVE - MOTHER TERESA NH   \n",
       "9904        False          False   3409 SOUTH ASHLAND, 1ST FLOOR REAR APT.   \n",
       "13498       False          False            2626 NORTH LAKEVIEW, UNIT 3008   \n",
       "5621        False          False                      420 N. WOLF RD. #229   \n",
       "8656        False          False            733 W. 19TH STREET, GROUND APT   \n",
       "8780        False          False                   5333 N SHERIDAN RD #23J   \n",
       "5817        False          False                           1316 CONCORD LN   \n",
       "4239        False          False                        640 BERGANDY COURT   \n",
       "7898        False          False                             336 S Windsor   \n",
       "14044       False          False                  4900 W. POTOMAC 1ST FLR.   \n",
       "13696       False          False                   Citadel NH 3701 W 183rd   \n",
       "798         False          False                       4035 North Leclaire   \n",
       "10335       False          False                         2705 NORTH MOBILE   \n",
       "3985        False          False   Lexington Hospice, 815 E Irving Park Rd   \n",
       "9859        False          False                   1045 SOUTH GROVE AVENUE   \n",
       "17789       False          False     6840 N. SACRAMENTO AVENUE, ROOM# 414B   \n",
       "4015        False          False                     800 West Central Road   \n",
       "17142       False          False            WEST 36TH ST AND HERMITAGE AVE   \n",
       "2610        False          False                         6631 N. Milwaukee   \n",
       "5951        False          False                 8915 SOUTH LAFLIN APT 404   \n",
       "2672        False          False                     2160 South 1st Avenue   \n",
       "916         False          False                CLARE OAKS ASSISTED LIVING   \n",
       "8670        False          False                     14255 S CICERO RM 434   \n",
       "\n",
       "           Incident City  longitude   latitude  OBJECTID  \\\n",
       "21142         STREAMWOOD -88.166639  42.014994     61564   \n",
       "17602        ORLAND PARK -87.815531  41.615936     59223   \n",
       "12106          NORTHLAKE -87.908596  41.929038     57807   \n",
       "4942         COUNTRYSIDE -87.860635  41.783044     56056   \n",
       "9376          SCHAUMBURG -88.127944  42.025985     61674   \n",
       "8653             CHICAGO -87.731690  41.904602     68911   \n",
       "14697            MAYWOOD -87.843632  41.867806     62018   \n",
       "11558             LEMONT -87.972860  41.679977     63499   \n",
       "9904             CHICAGO -87.665314  41.831971     65188   \n",
       "13498            CHICAGO -87.639827  41.930351     67009   \n",
       "5621           NORTHLAKE -87.905080  41.915730     58002   \n",
       "8656             CHICAGO -87.646042  41.856563     67437   \n",
       "8780             CHICAGO -87.654376  41.979434     74168   \n",
       "5817          SCHAUMBURG -88.112903  42.012324     62245   \n",
       "4239   ELK GROVE VILLAGE        NaN        NaN     60570   \n",
       "7898   ARLINGTON HEIGHTS -87.964208  42.077622     60002   \n",
       "14044            CHICAGO -87.748635  41.904362     76597   \n",
       "13696        HAZEL CREST -87.706555  41.556419     63741   \n",
       "798              CHICAGO -87.754434  41.954423     73911   \n",
       "10335            CHICAGO -87.782931  41.929431     73899   \n",
       "3985          STREAMWOOD        NaN        NaN     61176   \n",
       "9859            OAK PARK -87.795475  41.868916     63202   \n",
       "17789            CHICAGO        NaN        NaN     75141   \n",
       "4015   ARLINGTON HEIGHTS -87.992553  42.068009     60130   \n",
       "17142            CHICAGO -87.669137  41.828642     64638   \n",
       "2610               NILES -87.791694  42.002101     77212   \n",
       "5951             CHICAGO -87.660445  41.731752     64790   \n",
       "2672             MAYWOOD -87.834769  41.861100     62445   \n",
       "916             BARTLETT        NaN        NaN     60976   \n",
       "8670           CRESTWOOD -87.737508  41.633365     60491   \n",
       "\n",
       "                        location  \n",
       "21142  (42.0149937, -88.1666392)  \n",
       "17602  (41.6159359, -87.8155315)  \n",
       "12106  (41.9290381, -87.9085962)  \n",
       "4942   (41.7830443, -87.8606347)  \n",
       "9376   (42.0259851, -88.1279436)  \n",
       "8653    (41.904602, -87.7316903)  \n",
       "14697  (41.8678057, -87.8436321)  \n",
       "11558  (41.6799768, -87.9728597)  \n",
       "9904    (41.831971, -87.6653139)  \n",
       "13498  (41.9303508, -87.6398266)  \n",
       "5621   (41.9157304, -87.9050796)  \n",
       "8656    (41.8565629, -87.646042)  \n",
       "8780   (41.9794337, -87.6543755)  \n",
       "5817   (42.0123239, -88.1129032)  \n",
       "4239                         NaN  \n",
       "7898   (42.0776216, -87.9642079)  \n",
       "14044   (41.904362, -87.7486353)  \n",
       "13696  (41.5564191, -87.7065553)  \n",
       "798    (41.9544229, -87.7544336)  \n",
       "10335  (41.9294315, -87.7829312)  \n",
       "3985                         NaN  \n",
       "9859   (41.8689159, -87.7954748)  \n",
       "17789                        NaN  \n",
       "4015   (42.0680087, -87.9925527)  \n",
       "17142  (41.8286417, -87.6691374)  \n",
       "2610   (42.0021012, -87.7916938)  \n",
       "5951   (41.7317523, -87.6604447)  \n",
       "2672   (41.8610998, -87.8347694)  \n",
       "916                          NaN  \n",
       "8670   (41.6333655, -87.7375081)  "
      ]
     },
     "execution_count": 23,
     "metadata": {},
     "output_type": "execute_result"
    }
   ],
   "source": [
    "df.sort_values(by='Age', ascending=False).head(30)"
   ]
  },
  {
   "cell_type": "markdown",
   "metadata": {},
   "source": [
    "## Seems like a lot of problems with fractures\n",
    "\n",
    "### What's the median age of someone dying from a cause that involves a fracture?\n",
    "\n",
    "Are fractures especially dangerous for the elderly?\n",
    "\n",
    "- *Tip: Filter for a cause that involves a fracture, then take the median age*\n",
    "- *Tip: If you get a \"cannot index NA values\" error, the problem is it's trying to search `NaN` values and doesn't know what to do with them. You need to tell pandas to count `NaN` as false by setting another option - it isn't `NaN=False`, but it's close!*"
   ]
  },
  {
   "cell_type": "code",
   "execution_count": 24,
   "metadata": {},
   "outputs": [
    {
     "data": {
      "text/plain": [
       "86.0"
      ]
     },
     "execution_count": 24,
     "metadata": {},
     "output_type": "execute_result"
    }
   ],
   "source": [
    "df[df['Primary Cause'].str.contains(\"FRACTURE\", na=False)].Age.median()"
   ]
  },
  {
   "cell_type": "markdown",
   "metadata": {},
   "source": [
    "### To get a \"compared to what?\", what's the median age of _anyone_ dying an accidental death?"
   ]
  },
  {
   "cell_type": "code",
   "execution_count": 25,
   "metadata": {},
   "outputs": [
    {
     "data": {
      "text/plain": [
       "51.0"
      ]
     },
     "execution_count": 25,
     "metadata": {},
     "output_type": "execute_result"
    }
   ],
   "source": [
    "df[df['Manner of Death'].str.contains('ACCIDENT', na=False)].Age.median()"
   ]
  },
  {
   "cell_type": "markdown",
   "metadata": {},
   "source": [
    "### What's the median age of each manner of death?\n",
    "\n",
    "It looks like different kinds of death might happen to different ages of people. Let's investigate that further."
   ]
  },
  {
   "cell_type": "code",
   "execution_count": 26,
   "metadata": {},
   "outputs": [
    {
     "data": {
      "text/plain": [
       "NATURAL         0.412380\n",
       "ACCIDENT        0.341131\n",
       "HOMICIDE        0.126979\n",
       "SUICIDE         0.076527\n",
       "UNDETERMINED    0.022453\n",
       "PENDING         0.020530\n",
       "Name: Manner of Death, dtype: float64"
      ]
     },
     "execution_count": 26,
     "metadata": {},
     "output_type": "execute_result"
    }
   ],
   "source": [
    "df['Manner of Death'].value_counts(normalize=True)"
   ]
  },
  {
   "cell_type": "markdown",
   "metadata": {},
   "source": [
    "### Who is the oldest homicide victim?\n",
    "\n",
    "It looks like homicide is for young people, so maybe we'll find an interesting outlier?"
   ]
  },
  {
   "cell_type": "code",
   "execution_count": 27,
   "metadata": {},
   "outputs": [
    {
     "data": {
      "text/plain": [
       "98.0"
      ]
     },
     "execution_count": 27,
     "metadata": {},
     "output_type": "execute_result"
    }
   ],
   "source": [
    "df[df['Manner of Death'].str.contains('HOMICIDE', na=False)].Age.max()\n",
    "\n",
    "# I think there should be an easier way to do that, with sort by, but I couldn't."
   ]
  },
  {
   "cell_type": "markdown",
   "metadata": {},
   "source": [
    "## Investigating toxicity-related homicides\n",
    "\n",
    "She was old, and was purposefully overdosed on morphine and hydrocodone. Might have been euthenasia? Let's find similar cases.\n",
    "\n",
    "### Find every homicide where the primary cause of death is some sort of toxicity\n",
    "\n",
    "Toxicity can just overdose. You should have **ten rows**.\n",
    "\n",
    "- *Tip: If you're doing this as one statement, make sure you use your parentheses correctly. If you leave them out, you'll have zero rows*\n",
    "- *Tip: You could make a homicides-only dataframe if you wanted to*"
   ]
  },
  {
   "cell_type": "code",
   "execution_count": null,
   "metadata": {},
   "outputs": [],
   "source": []
  },
  {
   "cell_type": "markdown",
   "metadata": {},
   "source": [
    "### Okay, nope, we were wrong.\n",
    "\n",
    "Those were almost **all from fires**. Apparently homicide is not the best place to go looking for toxicity. What's the most popular manner of death for primary causes involving toxicity?\n",
    "\n",
    "- *Tip: Remember that `['colname']` is the same as `.colname`. You can't do `.col with spaces` so you'll need to do `['col with spaces']` a lot in this dataset\n",
    "- *Tip: Or I guess if you really wanted to, you could rename your columns to have spaces in them (IF YOU DO THIS DON'T DO IT IN EXCEL BECAUSE IT WILL PROBABLY BREAK YOUR CSV.)*"
   ]
  },
  {
   "cell_type": "code",
   "execution_count": null,
   "metadata": {},
   "outputs": [],
   "source": []
  },
  {
   "cell_type": "markdown",
   "metadata": {},
   "source": [
    "### Okay, toxicity deaths (overdoses) are mostly accidents. Let's look at the first 30 accidental deaths involving toxicity.\n",
    "\n",
    "- *Tip: Remember your parentheses!*"
   ]
  },
  {
   "cell_type": "code",
   "execution_count": null,
   "metadata": {},
   "outputs": [],
   "source": []
  },
  {
   "cell_type": "markdown",
   "metadata": {},
   "source": [
    "## Wow, that's a lot of drug overdoses. What's more popular for overdosing: heroin, fentanyl, cocaine, or ethanol?\n",
    "\n",
    "You can count something like \"COMBINED ETHANOL, NORDIAZEPAM, AND FENTANYL TOXICITY\" under both ethanol and fentanyl.\n",
    "\n",
    "- *Tip: Search for them individually*"
   ]
  },
  {
   "cell_type": "code",
   "execution_count": null,
   "metadata": {},
   "outputs": [],
   "source": []
  },
  {
   "cell_type": "code",
   "execution_count": null,
   "metadata": {},
   "outputs": [],
   "source": []
  },
  {
   "cell_type": "code",
   "execution_count": null,
   "metadata": {},
   "outputs": [],
   "source": []
  },
  {
   "cell_type": "code",
   "execution_count": null,
   "metadata": {},
   "outputs": [],
   "source": []
  },
  {
   "cell_type": "markdown",
   "metadata": {},
   "source": [
    "# Cleaning up Primary Cause\n",
    "\n",
    "Let's stop investigating for a second and maybe clean up this \"Primary Cause\" column.\n",
    "\n",
    "## What are the most common Primary Cause of death? Include `NaN` values\n",
    "\n",
    "- *Tip: There is an option that keeps `NaN` values when counting things in a column.*"
   ]
  },
  {
   "cell_type": "code",
   "execution_count": 171,
   "metadata": {},
   "outputs": [
    {
     "data": {
      "text/plain": [
       "count                              22510\n",
       "unique                              3993\n",
       "top       ORGANIC CARDIOVASCULAR DISEASE\n",
       "freq                                1983\n",
       "Name: Primary Cause, dtype: object"
      ]
     },
     "execution_count": 171,
     "metadata": {},
     "output_type": "execute_result"
    }
   ],
   "source": [
    "df['Primary Cause'].describe()"
   ]
  },
  {
   "cell_type": "markdown",
   "metadata": {},
   "source": [
    "## That was horrible looking. I don't want to read through that - how many `NaN` causes of death are there?\n",
    "\n",
    "- *Tip: You can use `isnull()` to see if it's missing data, but how do you count the results?*"
   ]
  },
  {
   "cell_type": "code",
   "execution_count": null,
   "metadata": {},
   "outputs": [],
   "source": []
  },
  {
   "cell_type": "markdown",
   "metadata": {},
   "source": [
    "## Remove all rows where the primary cause of death has not been filled out.\n",
    "\n",
    "- *Tip: confirm that you have 22510 rows when you're done*"
   ]
  },
  {
   "cell_type": "code",
   "execution_count": null,
   "metadata": {},
   "outputs": [],
   "source": []
  },
  {
   "cell_type": "markdown",
   "metadata": {},
   "source": [
    "# Cardiovascular disease\n",
    "\n",
    "Cardiovascular disease (heart disease) is the number one or number two killer in America.\n",
    "\n",
    "### Filter for only rows where cardiovascular disease was a primary cause\n",
    "\n",
    "- *Tip: I hope you know how to deal with the `NaN` error message by now!*"
   ]
  },
  {
   "cell_type": "code",
   "execution_count": null,
   "metadata": {},
   "outputs": [],
   "source": []
  },
  {
   "cell_type": "markdown",
   "metadata": {},
   "source": [
    "### What are the different types?"
   ]
  },
  {
   "cell_type": "code",
   "execution_count": null,
   "metadata": {},
   "outputs": [],
   "source": []
  },
  {
   "cell_type": "markdown",
   "metadata": {},
   "source": [
    "### Replace all of those with a nice simple 'CARDIOVASCULAR DISEASE'\n",
    "\n",
    "- *Tip: you can use `.replace` or `.str.replace`, but they each involve different things! I suggest `.replace`, it looks a little cleaner in this situation*\n",
    "- *Tip: for `.replace`, you need to give it more options than usual*\n",
    "- *Tip: for `.str.replace`, it won't automatically save back into the column, you need to do that yourself*"
   ]
  },
  {
   "cell_type": "code",
   "execution_count": null,
   "metadata": {},
   "outputs": [],
   "source": []
  },
  {
   "cell_type": "markdown",
   "metadata": {},
   "source": [
    "### Check the top 5 primary causes. Cardiovascular disease should be first with about 28.4%"
   ]
  },
  {
   "cell_type": "code",
   "execution_count": null,
   "metadata": {},
   "outputs": [],
   "source": []
  },
  {
   "cell_type": "markdown",
   "metadata": {},
   "source": [
    "We could also clean up gunshots, but... let's just move on."
   ]
  },
  {
   "cell_type": "markdown",
   "metadata": {},
   "source": [
    "# The Opioid Epidemic\n",
    "\n",
    "America has a [big problem with fentanyl](https://www.theatlantic.com/health/archive/2018/05/americas-opioid-crisis-is-now-a-fentanyl-crisis/559445/) and other opioids.\n",
    "\n",
    "## Find all of the rows where fentanyl was part of the primary cause of death\n",
    "\n",
    "We don't need `na=False` any more because we *dropped the rows without primary causes*."
   ]
  },
  {
   "cell_type": "code",
   "execution_count": null,
   "metadata": {},
   "outputs": [],
   "source": []
  },
  {
   "cell_type": "markdown",
   "metadata": {},
   "source": [
    "## Fentanyl and race\n",
    "\n",
    "In the late 80's and 90's, the [crack cocaine epidemic](https://en.wikipedia.org/wiki/Crack_epidemic) swept through inner cities in the US. It was treated primarily as a crime problem, while many people say fentanyl and heroin overdoses are being treated as a medical problem due to the racial differences - the crack epidemic mainly affected Black communities, while fentanyl seems to be a problem for everyone.\n",
    "\n",
    "### How does the racial breakdown of fentanyl deaths compare to the racial breakdown of other causes of death? How about compared to causes of accidental death?"
   ]
  },
  {
   "cell_type": "code",
   "execution_count": null,
   "metadata": {},
   "outputs": [],
   "source": []
  },
  {
   "cell_type": "code",
   "execution_count": null,
   "metadata": {},
   "outputs": [],
   "source": []
  },
  {
   "cell_type": "code",
   "execution_count": null,
   "metadata": {},
   "outputs": [],
   "source": []
  },
  {
   "cell_type": "markdown",
   "metadata": {},
   "source": [
    "### Now compare it to homicides"
   ]
  },
  {
   "cell_type": "code",
   "execution_count": null,
   "metadata": {},
   "outputs": [],
   "source": []
  },
  {
   "cell_type": "markdown",
   "metadata": {},
   "source": [
    "### Now compare it to suicide"
   ]
  },
  {
   "cell_type": "code",
   "execution_count": null,
   "metadata": {},
   "outputs": [],
   "source": []
  },
  {
   "cell_type": "markdown",
   "metadata": {},
   "source": [
    "## These differences seems kind of crazy\n",
    "\n",
    "Let's look at all of these at once: I want a breakdown of the most common manners of death for **men**, based on race.\n",
    "\n",
    "Percentages, please, not raw numbers.\n",
    "\n",
    "You can look at women, too, although I think the numbers are more surprising for men."
   ]
  },
  {
   "cell_type": "code",
   "execution_count": null,
   "metadata": {},
   "outputs": [],
   "source": []
  },
  {
   "cell_type": "code",
   "execution_count": null,
   "metadata": {},
   "outputs": [],
   "source": []
  },
  {
   "cell_type": "markdown",
   "metadata": {},
   "source": [
    "## Back to drugs: what is the most popular opioid-related primary cause of death that does NOT involve fentanyl?\n",
    "\n",
    "- *Tip: Pay attention to your column names! There's one that might tell you if something is opioid-related...*\n",
    "- *Tip: Usually you can use `not` or `!` to means \"not\", but for pandas and `.isin` or `.str.contains` you need to use `~`*\n",
    "- *Tip: For \"and\" in pandas you'll need to use `&`, and make sure all of your clauses have parens around them, e.g. `df[(df.col1 = 'A') & (df.col2 = 'B')]`.*"
   ]
  },
  {
   "cell_type": "code",
   "execution_count": null,
   "metadata": {},
   "outputs": [],
   "source": []
  },
  {
   "cell_type": "markdown",
   "metadata": {},
   "source": [
    "# How do heroin and fentanyl deaths compare?\n",
    "\n",
    "## Count the number of deaths involving heroin, the number of deaths involving fentanyl, and the number of deaths involving both.\n",
    "\n",
    "- *Tip: This will take 3 different statements*\n",
    "- *Tip: You should get `813` that include both*"
   ]
  },
  {
   "cell_type": "code",
   "execution_count": null,
   "metadata": {},
   "outputs": [],
   "source": []
  },
  {
   "cell_type": "code",
   "execution_count": null,
   "metadata": {},
   "outputs": [],
   "source": []
  },
  {
   "cell_type": "code",
   "execution_count": null,
   "metadata": {},
   "outputs": [],
   "source": []
  },
  {
   "cell_type": "markdown",
   "metadata": {},
   "source": [
    "## That's weird.\n",
    "\n",
    "I heard fentanyl really surpassed heroin in the past few years. Let's see how this \n",
    "\n",
    "### Pull the year out and store it in a new column called `year`\n",
    "\n",
    "If you run `df['Date of Incident'].str.extract(\"(\\d\\d\\d\\d)\", expand=False)`, it will pull out the year of each incident. **Store this in a new column called `year`.**\n",
    "\n",
    "(It's regular expression stuff. `\\d\\d\\d\\d` means \"four numbers in a row\", and `()` + `.str.extract` means \"pull it out\".)"
   ]
  },
  {
   "cell_type": "code",
   "execution_count": null,
   "metadata": {},
   "outputs": [],
   "source": []
  },
  {
   "cell_type": "markdown",
   "metadata": {},
   "source": [
    "### What is the datatype of the new `year` column?"
   ]
  },
  {
   "cell_type": "code",
   "execution_count": null,
   "metadata": {},
   "outputs": [],
   "source": []
  },
  {
   "cell_type": "markdown",
   "metadata": {},
   "source": [
    "## Convert this new column to an integer and save it back on top of itself\n",
    "\n",
    "- *Tip: This uses is your friend `.astype`*\n",
    "- *Tip: Make sure to save it back on top of itself!*"
   ]
  },
  {
   "cell_type": "code",
   "execution_count": null,
   "metadata": {},
   "outputs": [],
   "source": []
  },
  {
   "cell_type": "markdown",
   "metadata": {},
   "source": [
    "## Confirm the column is a number"
   ]
  },
  {
   "cell_type": "code",
   "execution_count": null,
   "metadata": {},
   "outputs": [],
   "source": []
  },
  {
   "cell_type": "markdown",
   "metadata": {},
   "source": [
    "## Plot the number of opioid deaths by year\n",
    "\n",
    "If you'd like to make it look nicer, do some sorting and get rid of 2018.\n",
    "\n",
    "- *Tip: Think of it in a few steps. First, filter for opioid deaths. Then get the number of deaths for each year. Then plot it.*\n",
    "- *Tip: What's up with 2018? Why's it look so weird? Can you get rid of it? Remember to use lots of parens!*\n",
    "- *Tip: Make sure the earliest year is on the left. You might need to sort by something other than values.*"
   ]
  },
  {
   "cell_type": "code",
   "execution_count": null,
   "metadata": {},
   "outputs": [],
   "source": []
  },
  {
   "cell_type": "markdown",
   "metadata": {},
   "source": [
    "## Plot the number of fentanyl deaths by year, and the number of heroin deaths by year\n",
    "\n",
    "- *Tip: You'll want to look up how to use `ylim` - it will let you set each graphic to use the same scale. This should be separate graphics.*\n",
    "- *Tip: Pay attention to the numbers on your axes. `sort_index()` will be your friend.*\n",
    "- *Tip: You should probably get rid of 2018*"
   ]
  },
  {
   "cell_type": "code",
   "execution_count": null,
   "metadata": {},
   "outputs": [],
   "source": []
  },
  {
   "cell_type": "code",
   "execution_count": null,
   "metadata": {},
   "outputs": [],
   "source": []
  },
  {
   "cell_type": "markdown",
   "metadata": {},
   "source": [
    "## How does this compare to gun deaths?"
   ]
  },
  {
   "cell_type": "code",
   "execution_count": null,
   "metadata": {},
   "outputs": [],
   "source": []
  },
  {
   "cell_type": "markdown",
   "metadata": {},
   "source": [
    "## But hey: numbers can lie pretty easily!\n",
    "\n",
    "The numbers are just so low in 2014 and much higher in 2017. What's going on there?\n",
    "\n",
    "Well, maybe **there just isn't as much data from the earlier years**. Plot how many entries there are for each year."
   ]
  },
  {
   "cell_type": "code",
   "execution_count": null,
   "metadata": {},
   "outputs": [],
   "source": []
  },
  {
   "cell_type": "markdown",
   "metadata": {},
   "source": [
    "And we don't know the best way to fix that up yet, so instead I'm going to give you a present.\n",
    "\n",
    "# Is the true lesson here, don't move to Cook County, Illinois?\n",
    "\n",
    "Cook County is basically Chicago. It's probably just certain areas that are trouble, right? Let's investigate that without even having a clue how mapping works.\n",
    "\n",
    "## Fun bonus: Making cheating maps\n",
    "\n",
    "### Make a new dataframe of every death in the actual city of Chicago"
   ]
  },
  {
   "cell_type": "code",
   "execution_count": null,
   "metadata": {},
   "outputs": [],
   "source": []
  },
  {
   "cell_type": "markdown",
   "metadata": {},
   "source": [
    "### Confirm this new dataframe has 13,627 rows"
   ]
  },
  {
   "cell_type": "code",
   "execution_count": null,
   "metadata": {},
   "outputs": [],
   "source": []
  },
  {
   "cell_type": "markdown",
   "metadata": {},
   "source": [
    "### Use lat and long in the worst way possible to make a map\n",
    "\n",
    "Use `longitude` and `latitude` and `plot` to make a rough map of the city. Chicago [looks like this](https://en.wikipedia.org/wiki/File:DuPage_County_Illinois_Incorporated_and_Unincorporated_areas_Chicago_Highlighted.svg)\n",
    "\n",
    "- *Tip: Use the `latitude` and `longitude` columns*\n",
    "- *Tip: You don't want a line graph, of course. Or a bar. What kind is the kind with dots on it?*\n",
    "- *Tip: Use something like like `figsize=(10,5)` to specify the height and width of the map (but, you know, with better numbers that make it look like chicago)*"
   ]
  },
  {
   "cell_type": "code",
   "execution_count": null,
   "metadata": {},
   "outputs": [],
   "source": []
  },
  {
   "cell_type": "markdown",
   "metadata": {},
   "source": [
    "## Now let's find out where to live\n",
    "\n",
    "Make a map of every non-homicide death in Chicago, then plot the homicides on top of it.\n",
    "\n",
    "Use the `ax=df.plot` trick from the beer cans assignment to plot all of the rows representing homicides vs non-homicides. You can use `color='red'` to make one of them red, and `alpha=0.05` to make each mark very transparent to allow them to layer on top of each other."
   ]
  },
  {
   "cell_type": "code",
   "execution_count": null,
   "metadata": {},
   "outputs": [],
   "source": []
  },
  {
   "cell_type": "markdown",
   "metadata": {},
   "source": [
    "## Never tell anyone I let you do that.\n",
    "\n",
    "But you want to see something actually completely legitimately insane?\n",
    "\n",
    "**Chicago is one of the most segregated cities in America.** If you'd like to see this for yourself, make a map of `Race`. Plot black vs white in a way similar to what we did above."
   ]
  },
  {
   "cell_type": "code",
   "execution_count": null,
   "metadata": {},
   "outputs": [],
   "source": []
  },
  {
   "cell_type": "markdown",
   "metadata": {},
   "source": [
    "Yup."
   ]
  },
  {
   "cell_type": "code",
   "execution_count": null,
   "metadata": {},
   "outputs": [],
   "source": []
  }
 ],
 "metadata": {
  "kernelspec": {
   "display_name": "Python 3",
   "language": "python",
   "name": "python3"
  },
  "language_info": {
   "codemirror_mode": {
    "name": "ipython",
    "version": 3
   },
   "file_extension": ".py",
   "mimetype": "text/x-python",
   "name": "python",
   "nbconvert_exporter": "python",
   "pygments_lexer": "ipython3",
   "version": "3.7.3"
  }
 },
 "nbformat": 4,
 "nbformat_minor": 2
}
