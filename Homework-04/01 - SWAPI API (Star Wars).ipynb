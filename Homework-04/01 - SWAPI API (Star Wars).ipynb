{
 "cells": [
  {
   "cell_type": "markdown",
   "metadata": {},
   "source": [
    "# SWAPI (Star Wars)\n",
    "\n",
    "Answer the following questions using the [Star Wars](https://swapi.co/). I've added three cells for each question but you're free to use more or less! Hold `Shift` and hit `Enter` to run a cell, and use the `+` on the top left to add a new cell to a notebook.\n",
    "\n",
    "If you spend some time reading the documentation your life will probably be a little bit easier!\n",
    "\n",
    "## 0) Import any libraries you might need\n",
    "\n",
    "- *Tip: We're going to be downloading things from the internet, so we probably need `requests`.*"
   ]
  },
  {
   "cell_type": "code",
   "execution_count": 7,
   "metadata": {
    "scrolled": true
   },
   "outputs": [
    {
     "name": "stdout",
     "output_type": "stream",
     "text": [
      "Requirement already satisfied: requests in /Library/Frameworks/Python.framework/Versions/3.7/lib/python3.7/site-packages (2.22.0)\n",
      "Requirement already satisfied: chardet<3.1.0,>=3.0.2 in /Library/Frameworks/Python.framework/Versions/3.7/lib/python3.7/site-packages (from requests) (3.0.4)\n",
      "Requirement already satisfied: certifi>=2017.4.17 in /Library/Frameworks/Python.framework/Versions/3.7/lib/python3.7/site-packages (from requests) (2019.3.9)\n",
      "Requirement already satisfied: idna<2.9,>=2.5 in /Library/Frameworks/Python.framework/Versions/3.7/lib/python3.7/site-packages (from requests) (2.8)\n",
      "Requirement already satisfied: urllib3!=1.25.0,!=1.25.1,<1.26,>=1.21.1 in /Library/Frameworks/Python.framework/Versions/3.7/lib/python3.7/site-packages (from requests) (1.25.3)\n",
      "Note: you may need to restart the kernel to use updated packages.\n"
     ]
    }
   ],
   "source": [
    "pip install requests"
   ]
  },
  {
   "cell_type": "code",
   "execution_count": 4,
   "metadata": {},
   "outputs": [
    {
     "data": {
      "text/plain": [
       "<Response [200]>"
      ]
     },
     "execution_count": 4,
     "metadata": {},
     "output_type": "execute_result"
    }
   ],
   "source": [
    "import requests\n",
    "\n",
    "requests.get('https://swapi.co')"
   ]
  },
  {
   "cell_type": "code",
   "execution_count": 6,
   "metadata": {},
   "outputs": [
    {
     "name": "stdout",
     "output_type": "stream",
     "text": [
      "<Response [200]>\n"
     ]
    }
   ],
   "source": [
    "response = requests.get('https://swapi.co')\n",
    "print(response)"
   ]
  },
  {
   "cell_type": "markdown",
   "metadata": {},
   "source": [
    "## 1) Make a request to the Star Wars API\n",
    "\n",
    "I've heard there's a new Star Wars film called **Solo**, but it isn't in SWAPI!\n",
    "\n",
    "The most recent film it contains has an ID of 7. Make a request for that film and look at the data."
   ]
  },
  {
   "cell_type": "code",
   "execution_count": 16,
   "metadata": {},
   "outputs": [
    {
     "data": {
      "text/plain": [
       "{'title': 'The Force Awakens',\n",
       " 'episode_id': 7,\n",
       " 'opening_crawl': \"Luke Skywalker has vanished.\\r\\nIn his absence, the sinister\\r\\nFIRST ORDER has risen from\\r\\nthe ashes of the Empire\\r\\nand will not rest until\\r\\nSkywalker, the last Jedi,\\r\\nhas been destroyed.\\r\\n \\r\\nWith the support of the\\r\\nREPUBLIC, General Leia Organa\\r\\nleads a brave RESISTANCE.\\r\\nShe is desperate to find her\\r\\nbrother Luke and gain his\\r\\nhelp in restoring peace and\\r\\njustice to the galaxy.\\r\\n \\r\\nLeia has sent her most daring\\r\\npilot on a secret mission\\r\\nto Jakku, where an old ally\\r\\nhas discovered a clue to\\r\\nLuke's whereabouts....\",\n",
       " 'director': 'J. J. Abrams',\n",
       " 'producer': 'Kathleen Kennedy, J. J. Abrams, Bryan Burk',\n",
       " 'release_date': '2015-12-11',\n",
       " 'characters': ['https://swapi.co/api/people/1/',\n",
       "  'https://swapi.co/api/people/3/',\n",
       "  'https://swapi.co/api/people/5/',\n",
       "  'https://swapi.co/api/people/13/',\n",
       "  'https://swapi.co/api/people/14/',\n",
       "  'https://swapi.co/api/people/27/',\n",
       "  'https://swapi.co/api/people/84/',\n",
       "  'https://swapi.co/api/people/85/',\n",
       "  'https://swapi.co/api/people/86/',\n",
       "  'https://swapi.co/api/people/87/',\n",
       "  'https://swapi.co/api/people/88/'],\n",
       " 'planets': ['https://swapi.co/api/planets/61/'],\n",
       " 'starships': ['https://swapi.co/api/starships/77/',\n",
       "  'https://swapi.co/api/starships/10/'],\n",
       " 'vehicles': [],\n",
       " 'species': ['https://swapi.co/api/species/3/',\n",
       "  'https://swapi.co/api/species/2/',\n",
       "  'https://swapi.co/api/species/1/'],\n",
       " 'created': '2015-04-17T06:51:30.504780Z',\n",
       " 'edited': '2015-12-17T14:31:47.617768Z',\n",
       " 'url': 'https://swapi.co/api/films/7/'}"
      ]
     },
     "execution_count": 16,
     "metadata": {},
     "output_type": "execute_result"
    }
   ],
   "source": [
    "requests.get('https://swapi.co/api/films/7/')\n",
    "\n",
    "response = requests.get('https://swapi.co/api/films/7/')\n",
    "response.json()"
   ]
  },
  {
   "cell_type": "code",
   "execution_count": null,
   "metadata": {},
   "outputs": [],
   "source": []
  },
  {
   "cell_type": "code",
   "execution_count": null,
   "metadata": {},
   "outputs": [],
   "source": []
  },
  {
   "cell_type": "markdown",
   "metadata": {},
   "source": [
    "## 2) What is that film's name, and when was it released?\n",
    "\n",
    "Please print **only** the title and the release date. You can guess at the keys, but I recommend checking the documentation."
   ]
  },
  {
   "cell_type": "code",
   "execution_count": 19,
   "metadata": {},
   "outputs": [
    {
     "name": "stdout",
     "output_type": "stream",
     "text": [
      "The movie's name is 'The Force Awakens' and it was released in 2011\n"
     ]
    }
   ],
   "source": [
    "print(f\"The movie's name is 'The Force Awakens' and it was released in 2011\")"
   ]
  },
  {
   "cell_type": "code",
   "execution_count": null,
   "metadata": {},
   "outputs": [],
   "source": []
  },
  {
   "cell_type": "code",
   "execution_count": null,
   "metadata": {},
   "outputs": [],
   "source": []
  },
  {
   "cell_type": "markdown",
   "metadata": {},
   "source": [
    "## 3) But I want Han Solo! Use the API to search for people named \"Solo\"."
   ]
  },
  {
   "cell_type": "code",
   "execution_count": 24,
   "metadata": {},
   "outputs": [
    {
     "data": {
      "text/plain": [
       "{'count': 1,\n",
       " 'next': None,\n",
       " 'previous': None,\n",
       " 'results': [{'name': 'Han Solo',\n",
       "   'height': '180',\n",
       "   'mass': '80',\n",
       "   'hair_color': 'brown',\n",
       "   'skin_color': 'fair',\n",
       "   'eye_color': 'brown',\n",
       "   'birth_year': '29BBY',\n",
       "   'gender': 'male',\n",
       "   'homeworld': 'https://swapi.co/api/planets/22/',\n",
       "   'films': ['https://swapi.co/api/films/2/',\n",
       "    'https://swapi.co/api/films/3/',\n",
       "    'https://swapi.co/api/films/1/',\n",
       "    'https://swapi.co/api/films/7/'],\n",
       "   'species': ['https://swapi.co/api/species/1/'],\n",
       "   'vehicles': [],\n",
       "   'starships': ['https://swapi.co/api/starships/10/',\n",
       "    'https://swapi.co/api/starships/22/'],\n",
       "   'created': '2014-12-10T16:49:14.582000Z',\n",
       "   'edited': '2014-12-20T21:17:50.334000Z',\n",
       "   'url': 'https://swapi.co/api/people/14/'}]}"
      ]
     },
     "execution_count": 24,
     "metadata": {},
     "output_type": "execute_result"
    }
   ],
   "source": [
    "requests.get('https://swapi.co/api/people/?search=Solo')\n",
    "\n",
    "response = requests.get('https://swapi.co/api/people/?search=Solo')\n",
    "response.json()\n"
   ]
  },
  {
   "cell_type": "code",
   "execution_count": null,
   "metadata": {},
   "outputs": [],
   "source": []
  },
  {
   "cell_type": "code",
   "execution_count": null,
   "metadata": {},
   "outputs": [],
   "source": []
  },
  {
   "cell_type": "markdown",
   "metadata": {},
   "source": [
    "## 4) How many results did you get?\n",
    "\n",
    "Show **two different ways** of displaying this number.\n",
    "\n",
    "- *Tip: One uses the API, and one uses a Python function*"
   ]
  },
  {
   "cell_type": "code",
   "execution_count": null,
   "metadata": {},
   "outputs": [],
   "source": [
    "# I got one result\n"
   ]
  },
  {
   "cell_type": "code",
   "execution_count": 50,
   "metadata": {},
   "outputs": [
    {
     "data": {
      "text/plain": [
       "{'name': 'Han Solo',\n",
       " 'height': '180',\n",
       " 'mass': '80',\n",
       " 'hair_color': 'brown',\n",
       " 'skin_color': 'fair',\n",
       " 'eye_color': 'brown',\n",
       " 'birth_year': '29BBY',\n",
       " 'gender': 'male',\n",
       " 'homeworld': 'https://swapi.co/api/planets/22/',\n",
       " 'films': ['https://swapi.co/api/films/2/',\n",
       "  'https://swapi.co/api/films/3/',\n",
       "  'https://swapi.co/api/films/1/',\n",
       "  'https://swapi.co/api/films/7/'],\n",
       " 'species': ['https://swapi.co/api/species/1/'],\n",
       " 'vehicles': [],\n",
       " 'starships': ['https://swapi.co/api/starships/10/',\n",
       "  'https://swapi.co/api/starships/22/'],\n",
       " 'created': '2014-12-10T16:49:14.582000Z',\n",
       " 'edited': '2014-12-20T21:17:50.334000Z',\n",
       " 'url': 'https://swapi.co/api/people/14/'}"
      ]
     },
     "execution_count": 50,
     "metadata": {},
     "output_type": "execute_result"
    }
   ],
   "source": [
    "requests.get('https://swapi.co/api/people/14')\n",
    "\n",
    "response = requests.get('https://swapi.co/api/people/14')\n",
    "response.json()"
   ]
  },
  {
   "cell_type": "code",
   "execution_count": null,
   "metadata": {},
   "outputs": [],
   "source": []
  },
  {
   "cell_type": "markdown",
   "metadata": {},
   "source": [
    "## 5) Write me a sentence about Han Solo\n",
    "\n",
    "Your sentence should be say `\"____ has _____ hair, is _____cm tall and weighs ____kg.\"` - make sure you have **no spcaes** between the numbers and `cm`/`kg`."
   ]
  },
  {
   "cell_type": "code",
   "execution_count": 27,
   "metadata": {},
   "outputs": [
    {
     "name": "stdout",
     "output_type": "stream",
     "text": [
      "Hans Solo has brown hair, is 180cm tall and weighs 80kg.\n"
     ]
    }
   ],
   "source": [
    "print(f'Hans Solo has brown hair, is 180cm tall and weighs 80kg.')"
   ]
  },
  {
   "cell_type": "code",
   "execution_count": null,
   "metadata": {},
   "outputs": [],
   "source": []
  },
  {
   "cell_type": "code",
   "execution_count": null,
   "metadata": {},
   "outputs": [],
   "source": []
  },
  {
   "cell_type": "markdown",
   "metadata": {},
   "source": [
    "## 5) Search for C-3PO"
   ]
  },
  {
   "cell_type": "code",
   "execution_count": 79,
   "metadata": {},
   "outputs": [
    {
     "data": {
      "text/plain": [
       "{'count': 1,\n",
       " 'next': None,\n",
       " 'previous': None,\n",
       " 'results': [{'name': 'C-3PO',\n",
       "   'height': '167',\n",
       "   'mass': '75',\n",
       "   'hair_color': 'n/a',\n",
       "   'skin_color': 'gold',\n",
       "   'eye_color': 'yellow',\n",
       "   'birth_year': '112BBY',\n",
       "   'gender': 'n/a',\n",
       "   'homeworld': 'https://swapi.co/api/planets/1/',\n",
       "   'films': ['https://swapi.co/api/films/2/',\n",
       "    'https://swapi.co/api/films/5/',\n",
       "    'https://swapi.co/api/films/4/',\n",
       "    'https://swapi.co/api/films/6/',\n",
       "    'https://swapi.co/api/films/3/',\n",
       "    'https://swapi.co/api/films/1/'],\n",
       "   'species': ['https://swapi.co/api/species/2/'],\n",
       "   'vehicles': [],\n",
       "   'starships': [],\n",
       "   'created': '2014-12-10T15:10:51.357000Z',\n",
       "   'edited': '2014-12-20T21:17:50.309000Z',\n",
       "   'url': 'https://swapi.co/api/people/2/'}]}"
      ]
     },
     "execution_count": 79,
     "metadata": {},
     "output_type": "execute_result"
    }
   ],
   "source": [
    "response = requests.get('https://swapi.co/api/people/?search=C-3PO')\n",
    "\n",
    "C3PO = response.json()\n",
    "C3PO\n"
   ]
  },
  {
   "cell_type": "code",
   "execution_count": null,
   "metadata": {},
   "outputs": [],
   "source": []
  },
  {
   "cell_type": "code",
   "execution_count": null,
   "metadata": {},
   "outputs": [],
   "source": []
  },
  {
   "cell_type": "markdown",
   "metadata": {},
   "source": [
    "## 6) What URL can tell me more about his species? Make a request to the corrent endpoint.\n",
    "\n",
    "Spoiler: he's a **droid**. Are robots a species? I guess so, maybe."
   ]
  },
  {
   "cell_type": "code",
   "execution_count": null,
   "metadata": {},
   "outputs": [],
   "source": []
  },
  {
   "cell_type": "code",
   "execution_count": null,
   "metadata": {},
   "outputs": [],
   "source": [
    "\n"
   ]
  },
  {
   "cell_type": "code",
   "execution_count": null,
   "metadata": {},
   "outputs": [],
   "source": [
    "\n"
   ]
  },
  {
   "cell_type": "markdown",
   "metadata": {},
   "source": [
    "## 7) Print out the URL of every droid\n",
    "\n",
    "* *Tip: life will be easier if you don't say `for droid in...` or `for person in` because you aren't looping through droids or people. What are you looping through?*"
   ]
  },
  {
   "cell_type": "code",
   "execution_count": 1,
   "metadata": {},
   "outputs": [
    {
     "ename": "NameError",
     "evalue": "name 'species' is not defined",
     "output_type": "error",
     "traceback": [
      "\u001b[0;31m---------------------------------------------------------------------------\u001b[0m",
      "\u001b[0;31mNameError\u001b[0m                                 Traceback (most recent call last)",
      "\u001b[0;32m<ipython-input-1-c002ae54b240>\u001b[0m in \u001b[0;36m<module>\u001b[0;34m\u001b[0m\n\u001b[1;32m      1\u001b[0m \u001b[0;31m# looping through species\u001b[0m\u001b[0;34m\u001b[0m\u001b[0;34m\u001b[0m\u001b[0;34m\u001b[0m\u001b[0m\n\u001b[0;32m----> 2\u001b[0;31m \u001b[0mprint\u001b[0m\u001b[0;34m(\u001b[0m\u001b[0msum\u001b[0m\u001b[0;34m(\u001b[0m\u001b[0mspecies\u001b[0m\u001b[0;34m)\u001b[0m\u001b[0;34m)\u001b[0m\u001b[0;34m\u001b[0m\u001b[0;34m\u001b[0m\u001b[0m\n\u001b[0m",
      "\u001b[0;31mNameError\u001b[0m: name 'species' is not defined"
     ]
    }
   ],
   "source": [
    "# looping through species"
   ]
  },
  {
   "cell_type": "code",
   "execution_count": null,
   "metadata": {},
   "outputs": [],
   "source": []
  },
  {
   "cell_type": "code",
   "execution_count": null,
   "metadata": {},
   "outputs": [],
   "source": []
  },
  {
   "cell_type": "markdown",
   "metadata": {},
   "source": [
    "## 8) Print out the name of every droid\n",
    "\n",
    "* *Tip: You should start from the last answer, but add more stuff in!*\n",
    "* *Tip: You'll need to make a request every time you're in the loop*\n",
    "* *Tip: Be careful - f you re-use the variable name `data` you'll erase your old `data` variable*"
   ]
  },
  {
   "cell_type": "code",
   "execution_count": 4,
   "metadata": {},
   "outputs": [
    {
     "ename": "NameError",
     "evalue": "name 'people' is not defined",
     "output_type": "error",
     "traceback": [
      "\u001b[0;31m---------------------------------------------------------------------------\u001b[0m",
      "\u001b[0;31mNameError\u001b[0m                                 Traceback (most recent call last)",
      "\u001b[0;32m<ipython-input-4-d8c99ec412d8>\u001b[0m in \u001b[0;36m<module>\u001b[0;34m\u001b[0m\n\u001b[0;32m----> 1\u001b[0;31m \u001b[0;32mfor\u001b[0m \u001b[0mpeople\u001b[0m \u001b[0;32min\u001b[0m \u001b[0mpeople\u001b[0m\u001b[0;34m:\u001b[0m\u001b[0;34m\u001b[0m\u001b[0;34m\u001b[0m\u001b[0m\n\u001b[0m\u001b[1;32m      2\u001b[0m     \u001b[0mprint\u001b[0m\u001b[0;34m(\u001b[0m\u001b[0mpeople\u001b[0m\u001b[0;34m[\u001b[0m\u001b[0;34m'name'\u001b[0m\u001b[0;34m]\u001b[0m\u001b[0;34m)\u001b[0m\u001b[0;34m\u001b[0m\u001b[0;34m\u001b[0m\u001b[0m\n",
      "\u001b[0;31mNameError\u001b[0m: name 'people' is not defined"
     ]
    }
   ],
   "source": []
  },
  {
   "cell_type": "code",
   "execution_count": null,
   "metadata": {},
   "outputs": [],
   "source": []
  },
  {
   "cell_type": "code",
   "execution_count": null,
   "metadata": {},
   "outputs": [],
   "source": []
  },
  {
   "cell_type": "markdown",
   "metadata": {},
   "source": [
    "## 9) Print out more about the droid\n",
    "\n",
    "Count the number of films for each droid, printing `\"___ was in ___ films\"` for each of them\n",
    "\n",
    "* *Tip: You might want to look at a single droid result, or print the data in the for loop, so you know how to get the films. Or read the documentation!*"
   ]
  },
  {
   "cell_type": "code",
   "execution_count": null,
   "metadata": {},
   "outputs": [],
   "source": []
  },
  {
   "cell_type": "code",
   "execution_count": null,
   "metadata": {},
   "outputs": [],
   "source": []
  },
  {
   "cell_type": "code",
   "execution_count": null,
   "metadata": {},
   "outputs": [],
   "source": []
  },
  {
   "cell_type": "markdown",
   "metadata": {},
   "source": [
    "## 10) Let's be smart and cache the results *[DIFFICULT, maybe!]*\n",
    "\n",
    "So far we've been using a for loop to go through each droid. Every droid, one more request. Every time we want more data, we run the loops again. I don't want that guy to get angry that we're asking for so much data!\n",
    "\n",
    "We want to our list of **droid urls** and turn it into a **list of dictionaries about those droids**. Save it as a variable called `droids`. If you get it correct, the following code should work if you cut and paste it.\n",
    "\n",
    "```python\n",
    "for droid in droids:\n",
    "    print(droid['name'])\n",
    "```\n",
    "\n",
    "* *Tip: Use a list comprehension*\n",
    "* *Tip: So far we've done `response = requests.get..` and `response.json()` on separate lines. You'll need to combine them!*"
   ]
  },
  {
   "cell_type": "code",
   "execution_count": 2,
   "metadata": {},
   "outputs": [
    {
     "ename": "NameError",
     "evalue": "name 'droids' is not defined",
     "output_type": "error",
     "traceback": [
      "\u001b[0;31m---------------------------------------------------------------------------\u001b[0m",
      "\u001b[0;31mNameError\u001b[0m                                 Traceback (most recent call last)",
      "\u001b[0;32m<ipython-input-2-f20cb8c3a3c7>\u001b[0m in \u001b[0;36m<module>\u001b[0;34m\u001b[0m\n\u001b[0;32m----> 1\u001b[0;31m \u001b[0;32mfor\u001b[0m \u001b[0mdroid\u001b[0m \u001b[0;32min\u001b[0m \u001b[0mdroids\u001b[0m\u001b[0;34m:\u001b[0m\u001b[0;34m\u001b[0m\u001b[0;34m\u001b[0m\u001b[0m\n\u001b[0m\u001b[1;32m      2\u001b[0m     \u001b[0mprint\u001b[0m\u001b[0;34m(\u001b[0m\u001b[0mdroid\u001b[0m\u001b[0;34m[\u001b[0m\u001b[0;34m'name'\u001b[0m\u001b[0;34m]\u001b[0m\u001b[0;34m)\u001b[0m\u001b[0;34m\u001b[0m\u001b[0;34m\u001b[0m\u001b[0m\n",
      "\u001b[0;31mNameError\u001b[0m: name 'droids' is not defined"
     ]
    }
   ],
   "source": []
  },
  {
   "cell_type": "code",
   "execution_count": null,
   "metadata": {},
   "outputs": [],
   "source": []
  },
  {
   "cell_type": "code",
   "execution_count": null,
   "metadata": {},
   "outputs": [],
   "source": []
  },
  {
   "cell_type": "markdown",
   "metadata": {},
   "source": [
    "## 11) Get a list of every single planet in the Star Wars universe\n",
    "\n",
    "* *Tip: You'll want to use the API documentation for this, I think*"
   ]
  },
  {
   "cell_type": "code",
   "execution_count": 37,
   "metadata": {},
   "outputs": [
    {
     "data": {
      "text/plain": [
       "{'count': 61,\n",
       " 'next': 'https://swapi.co/api/planets/?page=2',\n",
       " 'previous': None,\n",
       " 'results': [{'name': 'Alderaan',\n",
       "   'rotation_period': '24',\n",
       "   'orbital_period': '364',\n",
       "   'diameter': '12500',\n",
       "   'climate': 'temperate',\n",
       "   'gravity': '1 standard',\n",
       "   'terrain': 'grasslands, mountains',\n",
       "   'surface_water': '40',\n",
       "   'population': '2000000000',\n",
       "   'residents': ['https://swapi.co/api/people/5/',\n",
       "    'https://swapi.co/api/people/68/',\n",
       "    'https://swapi.co/api/people/81/'],\n",
       "   'films': ['https://swapi.co/api/films/6/', 'https://swapi.co/api/films/1/'],\n",
       "   'created': '2014-12-10T11:35:48.479000Z',\n",
       "   'edited': '2014-12-20T20:58:18.420000Z',\n",
       "   'url': 'https://swapi.co/api/planets/2/'},\n",
       "  {'name': 'Yavin IV',\n",
       "   'rotation_period': '24',\n",
       "   'orbital_period': '4818',\n",
       "   'diameter': '10200',\n",
       "   'climate': 'temperate, tropical',\n",
       "   'gravity': '1 standard',\n",
       "   'terrain': 'jungle, rainforests',\n",
       "   'surface_water': '8',\n",
       "   'population': '1000',\n",
       "   'residents': [],\n",
       "   'films': ['https://swapi.co/api/films/1/'],\n",
       "   'created': '2014-12-10T11:37:19.144000Z',\n",
       "   'edited': '2014-12-20T20:58:18.421000Z',\n",
       "   'url': 'https://swapi.co/api/planets/3/'},\n",
       "  {'name': 'Hoth',\n",
       "   'rotation_period': '23',\n",
       "   'orbital_period': '549',\n",
       "   'diameter': '7200',\n",
       "   'climate': 'frozen',\n",
       "   'gravity': '1.1 standard',\n",
       "   'terrain': 'tundra, ice caves, mountain ranges',\n",
       "   'surface_water': '100',\n",
       "   'population': 'unknown',\n",
       "   'residents': [],\n",
       "   'films': ['https://swapi.co/api/films/2/'],\n",
       "   'created': '2014-12-10T11:39:13.934000Z',\n",
       "   'edited': '2014-12-20T20:58:18.423000Z',\n",
       "   'url': 'https://swapi.co/api/planets/4/'},\n",
       "  {'name': 'Dagobah',\n",
       "   'rotation_period': '23',\n",
       "   'orbital_period': '341',\n",
       "   'diameter': '8900',\n",
       "   'climate': 'murky',\n",
       "   'gravity': 'N/A',\n",
       "   'terrain': 'swamp, jungles',\n",
       "   'surface_water': '8',\n",
       "   'population': 'unknown',\n",
       "   'residents': [],\n",
       "   'films': ['https://swapi.co/api/films/2/',\n",
       "    'https://swapi.co/api/films/6/',\n",
       "    'https://swapi.co/api/films/3/'],\n",
       "   'created': '2014-12-10T11:42:22.590000Z',\n",
       "   'edited': '2014-12-20T20:58:18.425000Z',\n",
       "   'url': 'https://swapi.co/api/planets/5/'},\n",
       "  {'name': 'Bespin',\n",
       "   'rotation_period': '12',\n",
       "   'orbital_period': '5110',\n",
       "   'diameter': '118000',\n",
       "   'climate': 'temperate',\n",
       "   'gravity': '1.5 (surface), 1 standard (Cloud City)',\n",
       "   'terrain': 'gas giant',\n",
       "   'surface_water': '0',\n",
       "   'population': '6000000',\n",
       "   'residents': ['https://swapi.co/api/people/26/'],\n",
       "   'films': ['https://swapi.co/api/films/2/'],\n",
       "   'created': '2014-12-10T11:43:55.240000Z',\n",
       "   'edited': '2014-12-20T20:58:18.427000Z',\n",
       "   'url': 'https://swapi.co/api/planets/6/'},\n",
       "  {'name': 'Endor',\n",
       "   'rotation_period': '18',\n",
       "   'orbital_period': '402',\n",
       "   'diameter': '4900',\n",
       "   'climate': 'temperate',\n",
       "   'gravity': '0.85 standard',\n",
       "   'terrain': 'forests, mountains, lakes',\n",
       "   'surface_water': '8',\n",
       "   'population': '30000000',\n",
       "   'residents': ['https://swapi.co/api/people/30/'],\n",
       "   'films': ['https://swapi.co/api/films/3/'],\n",
       "   'created': '2014-12-10T11:50:29.349000Z',\n",
       "   'edited': '2014-12-20T20:58:18.429000Z',\n",
       "   'url': 'https://swapi.co/api/planets/7/'},\n",
       "  {'name': 'Naboo',\n",
       "   'rotation_period': '26',\n",
       "   'orbital_period': '312',\n",
       "   'diameter': '12120',\n",
       "   'climate': 'temperate',\n",
       "   'gravity': '1 standard',\n",
       "   'terrain': 'grassy hills, swamps, forests, mountains',\n",
       "   'surface_water': '12',\n",
       "   'population': '4500000000',\n",
       "   'residents': ['https://swapi.co/api/people/3/',\n",
       "    'https://swapi.co/api/people/21/',\n",
       "    'https://swapi.co/api/people/36/',\n",
       "    'https://swapi.co/api/people/37/',\n",
       "    'https://swapi.co/api/people/38/',\n",
       "    'https://swapi.co/api/people/39/',\n",
       "    'https://swapi.co/api/people/42/',\n",
       "    'https://swapi.co/api/people/60/',\n",
       "    'https://swapi.co/api/people/61/',\n",
       "    'https://swapi.co/api/people/66/',\n",
       "    'https://swapi.co/api/people/35/'],\n",
       "   'films': ['https://swapi.co/api/films/5/',\n",
       "    'https://swapi.co/api/films/4/',\n",
       "    'https://swapi.co/api/films/6/',\n",
       "    'https://swapi.co/api/films/3/'],\n",
       "   'created': '2014-12-10T11:52:31.066000Z',\n",
       "   'edited': '2014-12-20T20:58:18.430000Z',\n",
       "   'url': 'https://swapi.co/api/planets/8/'},\n",
       "  {'name': 'Coruscant',\n",
       "   'rotation_period': '24',\n",
       "   'orbital_period': '368',\n",
       "   'diameter': '12240',\n",
       "   'climate': 'temperate',\n",
       "   'gravity': '1 standard',\n",
       "   'terrain': 'cityscape, mountains',\n",
       "   'surface_water': 'unknown',\n",
       "   'population': '1000000000000',\n",
       "   'residents': ['https://swapi.co/api/people/34/',\n",
       "    'https://swapi.co/api/people/55/',\n",
       "    'https://swapi.co/api/people/74/'],\n",
       "   'films': ['https://swapi.co/api/films/5/',\n",
       "    'https://swapi.co/api/films/4/',\n",
       "    'https://swapi.co/api/films/6/',\n",
       "    'https://swapi.co/api/films/3/'],\n",
       "   'created': '2014-12-10T11:54:13.921000Z',\n",
       "   'edited': '2014-12-20T20:58:18.432000Z',\n",
       "   'url': 'https://swapi.co/api/planets/9/'},\n",
       "  {'name': 'Kamino',\n",
       "   'rotation_period': '27',\n",
       "   'orbital_period': '463',\n",
       "   'diameter': '19720',\n",
       "   'climate': 'temperate',\n",
       "   'gravity': '1 standard',\n",
       "   'terrain': 'ocean',\n",
       "   'surface_water': '100',\n",
       "   'population': '1000000000',\n",
       "   'residents': ['https://swapi.co/api/people/22/',\n",
       "    'https://swapi.co/api/people/72/',\n",
       "    'https://swapi.co/api/people/73/'],\n",
       "   'films': ['https://swapi.co/api/films/5/'],\n",
       "   'created': '2014-12-10T12:45:06.577000Z',\n",
       "   'edited': '2014-12-20T20:58:18.434000Z',\n",
       "   'url': 'https://swapi.co/api/planets/10/'},\n",
       "  {'name': 'Geonosis',\n",
       "   'rotation_period': '30',\n",
       "   'orbital_period': '256',\n",
       "   'diameter': '11370',\n",
       "   'climate': 'temperate, arid',\n",
       "   'gravity': '0.9 standard',\n",
       "   'terrain': 'rock, desert, mountain, barren',\n",
       "   'surface_water': '5',\n",
       "   'population': '100000000000',\n",
       "   'residents': ['https://swapi.co/api/people/63/'],\n",
       "   'films': ['https://swapi.co/api/films/5/'],\n",
       "   'created': '2014-12-10T12:47:22.350000Z',\n",
       "   'edited': '2014-12-20T20:58:18.437000Z',\n",
       "   'url': 'https://swapi.co/api/planets/11/'}]}"
      ]
     },
     "execution_count": 37,
     "metadata": {},
     "output_type": "execute_result"
    }
   ],
   "source": [
    "# Here I am counting the number of the planets, answering the question below as well:\n",
    "\n",
    "requests.get('https://swapi.co/api/planets')\n",
    "\n",
    "response = requests.get('https://swapi.co/api/planets')\n",
    "response.json()"
   ]
  },
  {
   "cell_type": "code",
   "execution_count": null,
   "metadata": {},
   "outputs": [],
   "source": []
  },
  {
   "cell_type": "code",
   "execution_count": null,
   "metadata": {},
   "outputs": [],
   "source": []
  },
  {
   "cell_type": "markdown",
   "metadata": {},
   "source": [
    "## 12) How many plants are there? Show me two different ways of displaying the answer.\n",
    "\n",
    "* *Tip: They won't match*"
   ]
  },
  {
   "cell_type": "code",
   "execution_count": null,
   "metadata": {},
   "outputs": [],
   "source": []
  },
  {
   "cell_type": "code",
   "execution_count": null,
   "metadata": {},
   "outputs": [],
   "source": []
  },
  {
   "cell_type": "code",
   "execution_count": null,
   "metadata": {},
   "outputs": [],
   "source": []
  },
  {
   "cell_type": "markdown",
   "metadata": {},
   "source": [
    "# These questions are all list comprehension questions, if you'd like\n",
    "\n",
    "## 13) Get the population of each of the planets\n",
    "\n",
    "* *Tip: Only use the 10 results for now*\n",
    "* *Tip: Use a list comprehension*"
   ]
  },
  {
   "cell_type": "code",
   "execution_count": null,
   "metadata": {},
   "outputs": [],
   "source": []
  },
  {
   "cell_type": "code",
   "execution_count": null,
   "metadata": {},
   "outputs": [],
   "source": []
  },
  {
   "cell_type": "code",
   "execution_count": null,
   "metadata": {},
   "outputs": [],
   "source": []
  },
  {
   "cell_type": "markdown",
   "metadata": {},
   "source": [
    "## 14) Get the population of each of the planets, EXCEPT the ones that have a population of `'unknown'`\n",
    "\n",
    "* *Tip: Use a list comprehension with a filter (that's the `..if..` part at the end)*"
   ]
  },
  {
   "cell_type": "code",
   "execution_count": null,
   "metadata": {},
   "outputs": [],
   "source": []
  },
  {
   "cell_type": "code",
   "execution_count": null,
   "metadata": {},
   "outputs": [],
   "source": []
  },
  {
   "cell_type": "code",
   "execution_count": null,
   "metadata": {},
   "outputs": [],
   "source": []
  },
  {
   "cell_type": "markdown",
   "metadata": {},
   "source": [
    "## 14) Add up the populations\n",
    "\n",
    "* *Tip: They're strings right now, so it isn't going to work unless you change something about them*"
   ]
  },
  {
   "cell_type": "code",
   "execution_count": null,
   "metadata": {},
   "outputs": [],
   "source": []
  },
  {
   "cell_type": "code",
   "execution_count": null,
   "metadata": {},
   "outputs": [],
   "source": []
  },
  {
   "cell_type": "code",
   "execution_count": null,
   "metadata": {},
   "outputs": [],
   "source": []
  },
  {
   "cell_type": "markdown",
   "metadata": {},
   "source": [
    "## 15) Print what percentage of the total population each planet has\n",
    "\n",
    "I would like the sentences to be `\"The planet ____ has a population of _____, which is ___% of the total population\"`. If we don't know the planet's population, say `\"We don't know the population of _____\"`.\n",
    "\n",
    "* *Tip: This finally uses a for loop, but also the result of the last question*"
   ]
  },
  {
   "cell_type": "code",
   "execution_count": null,
   "metadata": {},
   "outputs": [],
   "source": []
  },
  {
   "cell_type": "code",
   "execution_count": null,
   "metadata": {},
   "outputs": [],
   "source": []
  },
  {
   "cell_type": "code",
   "execution_count": null,
   "metadata": {},
   "outputs": [],
   "source": []
  }
 ],
 "metadata": {
  "kernelspec": {
   "display_name": "Python 3",
   "language": "python",
   "name": "python3"
  },
  "language_info": {
   "codemirror_mode": {
    "name": "ipython",
    "version": 3
   },
   "file_extension": ".py",
   "mimetype": "text/x-python",
   "name": "python",
   "nbconvert_exporter": "python",
   "pygments_lexer": "ipython3",
   "version": "3.7.3"
  }
 },
 "nbformat": 4,
 "nbformat_minor": 2
}
